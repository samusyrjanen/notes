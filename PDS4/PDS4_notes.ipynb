{
 "cells": [
  {
   "cell_type": "markdown",
   "metadata": {},
   "source": [
    "# PDS4"
   ]
  },
  {
   "cell_type": "markdown",
   "metadata": {},
   "source": [
    "#### documents (https://pds.nasa.gov/datastandards/documents/)\n",
    "\n",
    "Concepts Document\n",
    "Introduction to PDS4 key concepts — the view from 10,000 feet, avoiding gory details.\n",
    "\n",
    "Standards Reference — Current Release | All Releases\n",
    "One of the two fundamental reference documents for PDS4. You will need this as you work your way through the Data Provider's Handbook and as you prepare an archive.\n",
    "\n",
    "Data Provider's Handbook — Current Release | All Releases\n",
    "A cookbook to guide data providers step-by-step through the process of developing an archive.\n",
    "The remaining are reference documents — don't try to read them cover to cover."
   ]
  },
  {
   "cell_type": "markdown",
   "metadata": {},
   "source": [
    "## Day 1"
   ]
  },
  {
   "cell_type": "markdown",
   "metadata": {},
   "source": [
    "![data processing levels](./images/data_processing_levels.png)"
   ]
  },
  {
   "cell_type": "markdown",
   "metadata": {},
   "source": [
    "website: https://psaftp.esac.esa.int/\n",
    "\n",
    "![PSA data structures](./images/PSA_data_structures.png)"
   ]
  },
  {
   "cell_type": "markdown",
   "metadata": {},
   "source": [
    "![data delivery options](./images/data_delivery_options.png)"
   ]
  },
  {
   "cell_type": "markdown",
   "metadata": {},
   "source": [
    "![PSA setup](./images/PSA_setup.png)"
   ]
  },
  {
   "cell_type": "markdown",
   "metadata": {},
   "source": [
    "Lastly, reviews (check presentation)"
   ]
  },
  {
   "cell_type": "markdown",
   "metadata": {},
   "source": [
    "## Day 2"
   ]
  },
  {
   "cell_type": "markdown",
   "metadata": {},
   "source": []
  },
  {
   "cell_type": "markdown",
   "metadata": {},
   "source": [
    "## Day 3"
   ]
  },
  {
   "cell_type": "markdown",
   "metadata": {},
   "source": [
    "#### Validation With Terminal:\n",
    "\n",
    "validate ./exercise_1.xml --add-context-products ../local_context_products.json \n",
    "\n",
    "#### Validation of a Bundle/Directory/Multiple Products\n",
    "\n",
    "validate em16_tgo_nmd/ --add-context-products ../local_context_products.json --rule pds4.bundle"
   ]
  },
  {
   "cell_type": "code",
   "execution_count": null,
   "metadata": {},
   "outputs": [],
   "source": [
    "# Template (.xml)\n",
    "\n",
    "<?xml version=\"1.0\" encoding=\"UTF-8\"?>\n",
    "<?xml-model href=\"https://pds.nasa.gov/pds4/pds/v1/PDS4_PDS_1J00.sch\" schematypens=\"http://purl.oclc.org/dsdl/schematron\"?>\n",
    "<Product_Observational xmlns=\"http://pds.nasa.gov/pds4/pds/v1\"\n",
    "                       xmlns:xsi=\"http://www.w3.org/2001/XMLSchema-instance\"\n",
    "                       xsi:schemaLocation=\"http://pds.nasa.gov/pds4/pds/v1 https://pds.nasa.gov/pds4/pds/v1/PDS4_PDS_1J00.xsd\">\n",
    "   <Identification_Area>\n",
    "      <logical_identifier>urn:esa:psa:a_mission:data_raw:instr_raw_sc_image</logical_identifier>\n",
    "      <version_id>1.0</version_id>\n",
    "      <title>An image</title>\n",
    "      <information_model_version>1.19.0.0</information_model_version>\n",
    "      <product_class>Product_Observational</product_class>\n",
    "   </Identification_Area>\n",
    "   <Observation_Area>\n",
    "      <Time_Coordinates>\n",
    "         <start_date_time>2024-08-20T21:58:35.202Z</start_date_time>\n",
    "         <stop_date_time>2024-08-20T22:58:35.202Z</stop_date_time>\n",
    "      </Time_Coordinates>\n",
    "      <Investigation_Area>\n",
    "         <name>JUICE</name>\n",
    "         <type>Mission</type>\n",
    "         <Internal_Reference>\n",
    "            <lid_reference>urn:esa:psa:context:investigation:mission.juice</lid_reference>\n",
    "            <reference_type>data_to_investigation</reference_type>\n",
    "         </Internal_Reference>\n",
    "      </Investigation_Area>\n",
    "      <Observing_System>\n",
    "         <name>Observing System for JUICE</name>\n",
    "         <Observing_System_Component>\n",
    "            <name>JUICE</name>\n",
    "            <type>Host</type>\n",
    "            <description>JUpiter ICy moons Explorer</description>\n",
    "            <Internal_Reference>\n",
    "               <lid_reference>urn:esa:psa:context:instrument_host:spacecraft.juice</lid_reference>\n",
    "               <reference_type>is_instrument_host</reference_type>\n",
    "            </Internal_Reference>\n",
    "         </Observing_System_Component>\n",
    "         <Observing_System_Component>\n",
    "            <name>JMC</name>\n",
    "            <type>Instrument</type>\n",
    "            <description>A fake instrument</description>\n",
    "            <Internal_Reference>\n",
    "               <lid_reference>urn:esa:psa:context:instrument:juice.jmc</lid_reference>\n",
    "               <reference_type>is_instrument</reference_type>\n",
    "            </Internal_Reference>\n",
    "         </Observing_System_Component>\n",
    "      </Observing_System>\n",
    "      <Target_Identification>\n",
    "         <name>NON SCIENCE</name>\n",
    "         <type>Calibrator</type>\n",
    "         <Internal_Reference>\n",
    "            <lid_reference>urn:nasa:pds:context:target:calibrator.non_science</lid_reference>\n",
    "            <reference_type>data_to_target</reference_type>\n",
    "         </Internal_Reference>\n",
    "      </Target_Identification>\n",
    "      <Mission_Area>\n",
    "      </Mission_Area>\n",
    "      <Discipline_Area>\n",
    "      </Discipline_Area>\n",
    "   </Observation_Area>\n",
    "   <Reference_List>\n",
    "   </Reference_List>\n",
    "   <File_Area_Observational>\n",
    "\n",
    "<!-- You should complete this part of the label!-->    \n",
    "\n",
    "   </File_Area_Observational>\n",
    "</Product_Observational>\n"
   ]
  },
  {
   "cell_type": "code",
   "execution_count": null,
   "metadata": {},
   "outputs": [],
   "source": [
    "# .fits .xml example\n",
    "\n",
    "<?xml version=\"1.0\" encoding=\"UTF-8\"?>\n",
    "<?xml-model href=\"https://pds.nasa.gov/pds4/pds/v1/PDS4_PDS_1J00.sch\" schematypens=\"http://purl.oclc.org/dsdl/schematron\"?>\n",
    "<Product_Observational xmlns=\"http://pds.nasa.gov/pds4/pds/v1\"\n",
    "                       xmlns:xsi=\"http://www.w3.org/2001/XMLSchema-instance\"\n",
    "                       xsi:schemaLocation=\"\n",
    "                        http://pds.nasa.gov/pds4/pds/v1 https://pds.nasa.gov/pds4/pds/v1/PDS4_PDS_1J00.xsd\">\n",
    "   <Identification_Area>\n",
    "      <logical_identifier>urn:esa:psa:a_mission:data_raw:instr_raw_sc_image</logical_identifier>\n",
    "      <version_id>1.0</version_id>\n",
    "      <title>An image</title>\n",
    "      <information_model_version>1.19.0.0</information_model_version>\n",
    "      <product_class>Product_Observational</product_class>\n",
    "   </Identification_Area>\n",
    "   <Observation_Area>\n",
    "      <Time_Coordinates>\n",
    "         <start_date_time>2024-08-20T21:58:35.202Z</start_date_time>\n",
    "         <stop_date_time>2024-08-20T22:58:35.202Z</stop_date_time>\n",
    "      </Time_Coordinates>\n",
    "      <Investigation_Area>\n",
    "         <name>Mars Express</name>\n",
    "         <type>Mission</type>\n",
    "         <Internal_Reference>\n",
    "            <lid_reference>urn:esa:psa:context:investigation:mission.mars_express</lid_reference>\n",
    "            <reference_type>data_to_investigation</reference_type>\n",
    "         </Internal_Reference>\n",
    "      </Investigation_Area>\n",
    "      <Observing_System>\n",
    "         <name>HRSC on Mars Express</name>\n",
    "         <Observing_System_Component>\n",
    "            <name>Mars Express</name>\n",
    "            <type>Host</type>\n",
    "            <description>Mars Express</description>\n",
    "            <Internal_Reference>\n",
    "               <lid_reference>urn:esa:psa:context:instrument_host:spacecraft.mex</lid_reference>\n",
    "               <reference_type>is_instrument_host</reference_type>\n",
    "            </Internal_Reference>\n",
    "         </Observing_System_Component>\n",
    "         <Observing_System_Component>\n",
    "            <name>High Resolution Stereo Camera</name>\n",
    "            <type>Instrument</type>\n",
    "            <description>High Resolution Stereo Camera</description>\n",
    "            <Internal_Reference>\n",
    "               <lid_reference>urn:esa:psa:context:instrument:mex.hrsc</lid_reference>\n",
    "               <reference_type>is_instrument</reference_type>\n",
    "            </Internal_Reference>\n",
    "         </Observing_System_Component>\n",
    "      </Observing_System>\n",
    "      <Target_Identification>\n",
    "         <name>NON SCIENCE</name>\n",
    "         <type>Calibrator</type>\n",
    "         <Internal_Reference>\n",
    "            <lid_reference>urn:nasa:pds:context:target:calibrator.non_science</lid_reference>\n",
    "            <reference_type>data_to_target</reference_type>\n",
    "         </Internal_Reference>\n",
    "      </Target_Identification>\n",
    "      <Mission_Area>\n",
    "      </Mission_Area>\n",
    "      <Discipline_Area>\n",
    "      </Discipline_Area>\n",
    "   </Observation_Area>\n",
    "   <Reference_List>\n",
    "   </Reference_List>\n",
    "   <File_Area_Observational>\n",
    "\n",
    "\n",
    "\n",
    "      <File>\n",
    "         <file_name>fits_image.fits</file_name>\n",
    "         <creation_date_time>2024-08-21T08:12:22.558Z</creation_date_time>\n",
    "         <file_size unit=\"byte\">14690880</file_size>\n",
    "         <records>1</records>\n",
    "         <md5_checksum>4614dc22dff826a0c22b236c34422bbb</md5_checksum>\n",
    "      </File>\n",
    "      <Header>\n",
    "         <name>FITS HEADER</name>\n",
    "         <offset unit=\"byte\">0</offset>\n",
    "         <object_length unit=\"byte\">2880</object_length>\n",
    "         <parsing_standard_id>FITS 3.0</parsing_standard_id>\n",
    "         <description>FITS primary header</description>\n",
    "      </Header>\n",
    "      <Header>\n",
    "         <name>FITS EXTENSION HEADER FOR THE JMC RGYB IMAGE</name>\n",
    "         <offset unit=\"byte\">2880</offset>\n",
    "         <object_length unit=\"byte\">2880</object_length>\n",
    "         <parsing_standard_id>FITS 3.0</parsing_standard_id>\n",
    "      </Header>\n",
    "      <Array_3D_Image>\n",
    "         <name>JMC RGYB image</name>\n",
    "         <local_identifier>JMC_RGYB_IMAGE</local_identifier>\n",
    "         <offset unit=\"byte\">5760</offset>\n",
    "         <axes>3</axes>\n",
    "         <axis_index_order>Last Index Fastest</axis_index_order>\n",
    "         <description>The JMC RGYB image is the result of applying a demosaicing and bilinear interpolation procedure to the raw CFA image. The resulting image has four colour planes (RGYB).</description>\n",
    "         <Element_Array>\n",
    "            <data_type>SignedMSB2</data_type>\n",
    "         </Element_Array>\n",
    "         <Axis_Array>\n",
    "            <axis_name>Colour</axis_name>\n",
    "            <elements>4</elements>\n",
    "            <sequence_number>1</sequence_number>\n",
    "         </Axis_Array>\n",
    "         <Axis_Array>\n",
    "            <axis_name>Line</axis_name>\n",
    "            <elements>1024</elements>\n",
    "            <sequence_number>2</sequence_number>\n",
    "         </Axis_Array>\n",
    "         <Axis_Array>\n",
    "            <axis_name>Sample</axis_name>\n",
    "            <elements>1024</elements>\n",
    "            <sequence_number>3</sequence_number>\n",
    "         </Axis_Array>\n",
    "      </Array_3D_Image>\n",
    "      <Header>\n",
    "         <name>FITS EXTENSION HEADER FOR THE JMC RGB IMAGE</name>\n",
    "         <offset unit=\"byte\">8395200</offset>\n",
    "         <object_length unit=\"byte\">2880</object_length>\n",
    "         <parsing_standard_id>FITS 3.0</parsing_standard_id>\n",
    "      </Header>\n",
    "      <Array_3D_Image>\n",
    "         <name>JMC RGB image</name>\n",
    "         <local_identifier>JMC_RGB_IMAGE</local_identifier>\n",
    "         <offset unit=\"byte\">8398080</offset>\n",
    "         <axes>3</axes>\n",
    "         <axis_index_order>Last Index Fastest</axis_index_order>\n",
    "         <description>The JMC RGB image is the result of applying a colour fusion matrix to the JMC RGYB image in order to produce a standard RGB colours image. The resulting image has three colour planes (RGB). Matrix used: 23.07.20 - Neon light</description>\n",
    "         <Element_Array>\n",
    "            <data_type>SignedMSB2</data_type>\n",
    "         </Element_Array>\n",
    "         <Axis_Array>\n",
    "            <axis_name>Colour</axis_name>\n",
    "            <elements>3</elements>\n",
    "            <sequence_number>1</sequence_number>\n",
    "         </Axis_Array>\n",
    "         <Axis_Array>\n",
    "            <axis_name>Line</axis_name>\n",
    "            <elements>1024</elements>\n",
    "            <sequence_number>2</sequence_number>\n",
    "         </Axis_Array>\n",
    "         <Axis_Array>\n",
    "            <axis_name>Sample</axis_name>\n",
    "            <elements>1024</elements>\n",
    "            <sequence_number>3</sequence_number>\n",
    "         </Axis_Array>\n",
    "      </Array_3D_Image>\n",
    "\n",
    "\n",
    "      \n",
    "   </File_Area_Observational>\n",
    "</Product_Observational>\n"
   ]
  },
  {
   "cell_type": "code",
   "execution_count": 2,
   "metadata": {},
   "outputs": [
    {
     "name": "stdout",
     "output_type": "stream",
     "text": [
      "Processing label: /home/sysa/PDS_workshop/PDS4_workshop_material/pds4_workshop-master@dc0ad051fa1/2_creating_products/template_label.xml\n",
      "Now processing a Array_2D_Image structure: ARRAY_0\n",
      "<StructureList at 0x728a14429b40> with:\n",
      "<ArrayStructure 'ARRAY_0' at 0x728a0ff9bf40>\n",
      "<ArrayStructure 'ARRAY_0' at 0x728a0ff9bf40>\n",
      "0   Array_2D_Image  'ARRAY_0'  2 axes, 1024 x 1024\n",
      "None\n",
      "Axes for Array_2D_Image 'ARRAY_0' (2 axes, 1024 x 1024): \n",
      "\n",
      "Line (1024 elements)\n",
      "Sample (1024 elements)\n",
      "None\n",
      "[[243 234 232 ... 232 231 231]\n",
      " [455 477 500 ... 310 308 302]\n",
      " [471 497 527 ... 319 315 315]\n",
      " ...\n",
      " [255 254 264 ... 321 309 297]\n",
      " [257 256 263 ... 375 302 291]\n",
      " [258 256 261 ... 245 298 287]]\n",
      "<Label Element 'Product_Observational' at 0x728a0ff5e0e0>\n"
     ]
    }
   ],
   "source": [
    "import pds4_tools\n",
    "\n",
    "# Some example commands\n",
    "\n",
    "test = pds4_tools.read('/home/sysa/PDS_workshop/PDS4_workshop_material/pds4_workshop-master@dc0ad051fa1/2_creating_products/template_label.xml')\n",
    "unnamed_array = test[0]\n",
    "\n",
    "print(test)\n",
    "print(unnamed_array)\n",
    "\n",
    "print(test.info())\n",
    "print(unnamed_array.info())\n",
    "\n",
    "print(unnamed_array.data)\n",
    "\n",
    "print(test.label)"
   ]
  },
  {
   "cell_type": "code",
   "execution_count": 3,
   "metadata": {},
   "outputs": [
    {
     "name": "stdout",
     "output_type": "stream",
     "text": [
      "Processing label: /home/sysa/PDS_workshop/PDS4_workshop_material/pds4_workshop-master@dc0ad051fa1/2_creating_products/template_label.xml\n",
      "Found a Array_2D_Image structure: ARRAY_0\n",
      "Now processing a Array_2D_Image structure: ARRAY_0\n",
      "Warning: No valid/supported Display Settings found. Displayed image may not be correct.\n"
     ]
    }
   ],
   "source": [
    "# Launch viewer\n",
    "\n",
    "#pds4_tools.view('/home/sysa/PDS_workshop/PDS4_workshop_material/pds4_workshop-master@dc0ad051fa1/2_creating_products/template_label.xml')"
   ]
  },
  {
   "cell_type": "markdown",
   "metadata": {},
   "source": [
    "## Day 4"
   ]
  },
  {
   "cell_type": "markdown",
   "metadata": {},
   "source": [
    "![checklist summary](./images/checklist_summary.png)"
   ]
  },
  {
   "cell_type": "markdown",
   "metadata": {},
   "source": [
    "![schemas and schematrons](./images/schemas_and_schematrons.png)"
   ]
  },
  {
   "cell_type": "markdown",
   "metadata": {},
   "source": [
    "dictionaries to include:\n",
    "- PDS\n",
    "- PSA\n",
    "- discipline stuff\n",
    "- instrument/mission stuff\n"
   ]
  }
 ],
 "metadata": {
  "kernelspec": {
   "display_name": "Python 3",
   "language": "python",
   "name": "python3"
  },
  "language_info": {
   "codemirror_mode": {
    "name": "ipython",
    "version": 3
   },
   "file_extension": ".py",
   "mimetype": "text/x-python",
   "name": "python",
   "nbconvert_exporter": "python",
   "pygments_lexer": "ipython3",
   "version": "3.10.3"
  }
 },
 "nbformat": 4,
 "nbformat_minor": 2
}
