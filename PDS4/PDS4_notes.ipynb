{
 "cells": [
  {
   "cell_type": "markdown",
   "metadata": {},
   "source": [
    "# PDS4"
   ]
  },
  {
   "cell_type": "markdown",
   "metadata": {},
   "source": [
    "#### documents (https://pds.nasa.gov/datastandards/documents/)\n",
    "\n",
    "Concepts Document\n",
    "Introduction to PDS4 key concepts — the view from 10,000 feet, avoiding gory details.\n",
    "\n",
    "Standards Reference — Current Release | All Releases\n",
    "One of the two fundamental reference documents for PDS4. You will need this as you work your way through the Data Provider's Handbook and as you prepare an archive.\n",
    "\n",
    "Data Provider's Handbook — Current Release | All Releases\n",
    "A cookbook to guide data providers step-by-step through the process of developing an archive.\n",
    "The remaining are reference documents — don't try to read them cover to cover."
   ]
  },
  {
   "cell_type": "markdown",
   "metadata": {},
   "source": [
    "## Day 1"
   ]
  },
  {
   "cell_type": "markdown",
   "metadata": {},
   "source": [
    "![data processing levels](./images/data_processing_levels.png)"
   ]
  },
  {
   "cell_type": "markdown",
   "metadata": {},
   "source": [
    "website: https://psaftp.esac.esa.int/\n",
    "\n",
    "![PSA data structures](./images/PSA_data_structures.png)"
   ]
  },
  {
   "cell_type": "markdown",
   "metadata": {},
   "source": [
    "![data delivery options](./images/data_delivery_options.png)"
   ]
  },
  {
   "cell_type": "markdown",
   "metadata": {},
   "source": [
    "![PSA setup](./images/PSA_setup.png)"
   ]
  },
  {
   "cell_type": "markdown",
   "metadata": {},
   "source": [
    "Lastly, reviews (check presentation)"
   ]
  }
 ],
 "metadata": {
  "language_info": {
   "name": "python"
  }
 },
 "nbformat": 4,
 "nbformat_minor": 2
}
