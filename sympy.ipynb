{
 "cells": [
  {
   "cell_type": "code",
   "execution_count": 1,
   "metadata": {},
   "outputs": [
    {
     "name": "stdout",
     "output_type": "stream",
     "text": [
      "Derivative with respect to a:\n",
      "-2*a*exp(a**2 + b**2)*log(b)/(exp(a**2 + b**2) + 1)**2\n",
      "\n",
      "Derivative with respect to b:\n",
      "-2*b*exp(a**2 + b**2)*log(b)/(exp(a**2 + b**2) + 1)**2 + 1/(b*(exp(a**2 + b**2) + 1))\n",
      "\n",
      "Partial derivative with respect to a at a = 2 and b = 3:\n",
      "-4*exp(13)*log(3)/(1 + exp(13))**2\n",
      "\n",
      "Partial derivative with respect to b at a = 2 and b = 3:\n",
      "-6*exp(13)*log(3)/(1 + exp(13))**2 + 1/(3*(1 + exp(13)))\n"
     ]
    }
   ],
   "source": [
    "import sympy as sp\n",
    "\n",
    "# Define symbols\n",
    "a, b = sp.symbols('a b')\n",
    "\n",
    "# Define the function\n",
    "z = sp.log(b) / (1 + sp.exp(a**2 + b**2))\n",
    "\n",
    "# Calculate the derivatives\n",
    "dz_da = sp.diff(z, a)\n",
    "dz_db = sp.diff(z, b)\n",
    "\n",
    "# Print the derivatives\n",
    "print(\"Derivative with respect to a:\")\n",
    "print(dz_da)\n",
    "print(\"\\nDerivative with respect to b:\")\n",
    "print(dz_db)\n",
    "\n",
    "# Substitute values for a and b\n",
    "a_value = 2\n",
    "b_value = 3\n",
    "\n",
    "# Evaluate the derivatives at the specified values\n",
    "dz_da_value = dz_da.subs({a: a_value, b: b_value})\n",
    "dz_db_value = dz_db.subs({a: a_value, b: b_value})\n",
    "\n",
    "# Print the evaluated derivatives\n",
    "print(\"\\nPartial derivative with respect to a at a = 2 and b = 3:\")\n",
    "print(dz_da_value)\n",
    "print(\"\\nPartial derivative with respect to b at a = 2 and b = 3:\")\n",
    "print(dz_db_value)"
   ]
  }
 ],
 "metadata": {
  "kernelspec": {
   "display_name": "Python 3",
   "language": "python",
   "name": "python3"
  },
  "language_info": {
   "codemirror_mode": {
    "name": "ipython",
    "version": 3
   },
   "file_extension": ".py",
   "mimetype": "text/x-python",
   "name": "python",
   "nbconvert_exporter": "python",
   "pygments_lexer": "ipython3",
   "version": "3.10.3"
  }
 },
 "nbformat": 4,
 "nbformat_minor": 2
}
