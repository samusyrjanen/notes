{
 "cells": [
  {
   "cell_type": "markdown",
   "metadata": {},
   "source": [
    "# The architecture of a K8s cluster\n",
    "A K8s cluster is based on a master-slave architecture. Typically, a K8s cluster comprises one or more control plane and worker nodes. A node can be a physical or virtual machine. The control plane manages the state of the cluster. Upon receiving user requests, the control plane assign workloads across the worker nodes. \n",
    "\n",
    "[kubectl](https://kubernetes.io/docs/reference/kubectl/) is a command line tool to communicate with a K8s cluster's control plan. You already used it while setting up the MLOps platform. For example, you ran `kubectl get nodes` to check how many nodes your cluster has. Let's do it once again."
   ]
  },
  {
   "cell_type": "code",
   "execution_count": 2,
   "metadata": {},
   "outputs": [
    {
     "name": "stdout",
     "output_type": "stream",
     "text": [
      "NAME                    STATUS   ROLES           AGE   VERSION\n",
      "kind-ep-control-plane   Ready    control-plane   28m   v1.24.0\n",
      "kind-ep-worker          Ready    <none>          28m   v1.24.0\n",
      "kind-ep-worker2         Ready    <none>          28m   v1.24.0\n"
     ]
    }
   ],
   "source": [
    "!kubectl get nodes"
   ]
  },
  {
   "cell_type": "markdown",
   "metadata": {},
   "source": [
    "Your cluster should have three nodes, one control plane and two worker nodes. The values in the \"AGE\" column vary, depending on how long your cluster has been running. "
   ]
  },
  {
   "cell_type": "markdown",
   "metadata": {},
   "source": [
    "# K8s objects\n",
    "As per K8s docs, objects are fundamental entities used to represent and manage various aspects of your containerized workloads and the cluster itself. K8s objects are defined using [YAML](https://www.freecodecamp.org/news/what-is-yaml-the-yml-file-format/) (or JSON) configuration files. We use kubectl to apply these configurations to the K8s cluster for deploying and managing containerized workloads in the cluster. Some common Kubernetes objects include:\n",
    "- Pod: A Pod is the smallest unit of Kubernetes and contains one container(or more tightly coupled containers), along with specifications of how the container(s) run.\n",
    "- Deployment: A Deployment updates pods to the desired state specified by users.\n",
    "- Service: A Service enable network access to pods. it exposes a set of pods as a stable network endpoint. \n",
    "- Ingress: An Ingress routes external HTTP/HTTPs traffic to Services. \n",
    "- ConfigMap: A ConfigMap stores configuration data as key-value pairs and can be consumed by pods, e.g., as environment variables.\n",
    "- Secret: Similar to ConfigMaps, Secrets store data in key-value pairs and can be consumed by Pods. Unlike ConfigMaps which store non-confidential data, Secrets store sensitive data, such as passwords and SSH keys, which can be encrypted by the control plane.\n",
    "- Namespace: A Namespace is a virtual partition of a Kubernetes cluster. Other objects, such as Pods, Deployments, and Services, can be created in a Namespace.\n",
    "- Custom Resource Definition: It allows users to define custom objects. For example, you'll see a custom object named InferenceService later in the course. An InferenceService represents an ML inference service, it specifies how an ML model should be served so that it can receive user requests and respond with predictions. "
   ]
  },
  {
   "cell_type": "markdown",
   "metadata": {},
   "source": [
    "# Example\n",
    "Let's use an example to gain some hands-on experience with K8s objects and the use of kubectl. In this example, we use a very simple Web App (source code [here](./app/app.py)) that serves a single endpoint and returns a JSON response containing user account and password information. The App will first try to retrieve the information using environmental variables. If the environmental variables are not set, default values will be returned.\n",
    "```python\n",
    "@app.route(\"/\")\n",
    "def hello_world():\n",
    "    user_info = {\n",
    "        \"user account\": os.environ.get(\"USER_ACCOUNT\", \"default_user\"),\n",
    "        \"password\": os.environ.get(\"PASSWORD\", \"default_pwd\")\n",
    "    }\n",
    "    return user_info\n",
    "```\n",
    "All the YAML files used in this example can be found from the \"manifests\" directory."
   ]
  },
  {
   "cell_type": "markdown",
   "metadata": {},
   "source": [
    "### Namespace\n",
    "Let's first create a Namespace called \"new-ns\" where the example App will run. We use `kubectl apply -f <filename>` to create new objects or apply changes to objects in a K8s cluster."
   ]
  },
  {
   "cell_type": "code",
   "execution_count": 3,
   "metadata": {},
   "outputs": [
    {
     "name": "stdout",
     "output_type": "stream",
     "text": [
      "namespace/new-ns created\n"
     ]
    }
   ],
   "source": [
    "!kubectl apply -f manifests/namespace.yaml"
   ]
  },
  {
   "cell_type": "markdown",
   "metadata": {},
   "source": [
    "We use `kubectl get <object-type> <object-name>` to list one or more objects. If the object name is not given, all objects of the given object type will be listed. "
   ]
  },
  {
   "cell_type": "code",
   "execution_count": 4,
   "metadata": {},
   "outputs": [
    {
     "name": "stdout",
     "output_type": "stream",
     "text": [
      "NAME     STATUS   AGE\n",
      "new-ns   Active   3s\n"
     ]
    }
   ],
   "source": [
    "!kubectl get ns new-ns\n",
    "\n",
    "# You'll see there is a namespace called \"new-ns\""
   ]
  },
  {
   "cell_type": "markdown",
   "metadata": {},
   "source": [
    "### Deployment\n",
    "The Docker image of the example Web App was built and pushed to DockerHub (a Docker repository). Now, let's create a Deployment for the example Web App. "
   ]
  },
  {
   "cell_type": "code",
   "execution_count": 5,
   "metadata": {},
   "outputs": [
    {
     "name": "stdout",
     "output_type": "stream",
     "text": [
      "deployment.apps/example-app created\n"
     ]
    }
   ],
   "source": [
    "!kubectl apply -f manifests/deployment.yaml"
   ]
  },
  {
   "cell_type": "code",
   "execution_count": 7,
   "metadata": {},
   "outputs": [
    {
     "name": "stdout",
     "output_type": "stream",
     "text": [
      "NAME                           READY   STATUS    RESTARTS   AGE\n",
      "example-app-69cc8f5b77-w2mx6   1/1     Running   0          4m50s\n"
     ]
    }
   ],
   "source": [
    "!kubectl -n new-ns get pods # -n is used to specify in which namespace we want to check objects\n",
    "\n",
    "# After a while, you should see there is a pod running in the \"new-ns\" namespace"
   ]
  },
  {
   "cell_type": "markdown",
   "metadata": {},
   "source": [
    "### Service\n",
    "We need to create a Service for the Deployment so that our containerized App running in a Pod can be accessible through an endpoint. "
   ]
  },
  {
   "cell_type": "code",
   "execution_count": 8,
   "metadata": {},
   "outputs": [
    {
     "name": "stdout",
     "output_type": "stream",
     "text": [
      "service/example-app-service created\n"
     ]
    }
   ],
   "source": [
    "!kubectl apply -f manifests/service.yaml"
   ]
  },
  {
   "cell_type": "markdown",
   "metadata": {},
   "source": [
    "Now, our App is accessible inside a K8s cluster. To access it from outside of the cluster, we can use `kubectl port-forward` to create a network connection between our local environment and the Service so that we can visit the App from our local environment. Run the following command in a terminal:\n",
    "```bash\n",
    "kubectl -n new-ns port-forward svc/example-app-service 8002:8081 \n",
    "```"
   ]
  },
  {
   "cell_type": "markdown",
   "metadata": {},
   "source": [
    "Navigate to [http://localhost:8002](http://localhost:8002) and you should see the user info printed. Notice that because we haven't set any environmental variables for our App, the default values are returned. "
   ]
  },
  {
   "cell_type": "markdown",
   "metadata": {},
   "source": [
    "### Ingress\n",
    "Using `port-forward` is not very convenient, especially when we have multiple Apps. Next, let's create an Ingress for the Service."
   ]
  },
  {
   "cell_type": "code",
   "execution_count": 9,
   "metadata": {},
   "outputs": [
    {
     "name": "stdout",
     "output_type": "stream",
     "text": [
      "ingress.networking.k8s.io/example-app-ingress created\n"
     ]
    }
   ],
   "source": [
    "!kubectl apply -f manifests/ingress.yaml"
   ]
  },
  {
   "cell_type": "markdown",
   "metadata": {},
   "source": [
    "Similar to what you did in setup, you need to add the entry `<floating-ip-of-cPouta-VM> example-app.local` to /etc/hosts so that your local host knows that it should resolve the host name to the IP of your remote cPouta VM. You can do this by running the following command in your terminal:\n",
    "```bash\n",
    "echo '<floating-ip-of-cPouta-VM> example-app.local' | sudo tee -a  /etc/hosts\n",
    "```"
   ]
  },
  {
   "cell_type": "markdown",
   "metadata": {},
   "source": [
    "Now, you can see the similar output if you nagivate to [http://example-app.local](http://example-app.local). "
   ]
  },
  {
   "cell_type": "markdown",
   "metadata": {},
   "source": [
    "### ConfigMap and Secret\n",
    "Next, let's create a ConfigMap where we defined a key-value pair, with the key \"USER_ACCOUNT\" and the value \"user1\":\n",
    "```yaml\n",
    "data:\n",
    "  USER_ACCOUNT: \"user1\"\n",
    "```"
   ]
  },
  {
   "cell_type": "code",
   "execution_count": 10,
   "metadata": {},
   "outputs": [
    {
     "name": "stdout",
     "output_type": "stream",
     "text": [
      "configmap/useraccount-configmap created\n"
     ]
    }
   ],
   "source": [
    "!kubectl apply -f manifests/configmap.yaml"
   ]
  },
  {
   "cell_type": "markdown",
   "metadata": {},
   "source": [
    "Let's create a Secret where we defined a key-value pair, with the key \"PASSWORD\" and the value the base64 encoded version of \"mypassword\". The encoded string will be decoded in the cluster when it's referenced by a Pod. \n",
    "```yaml\n",
    "data:\n",
    "  PASSWORD: bXlwYXNzd29yZA== #mypassword\n",
    "```\n",
    "<details>\n",
    "<summary> <i>More about the safety of Secrets. </i></summary>\n",
    "Everyone can decode a base64 encoded text so some encryption mechanisms, such as <a href=https://github.com/bitnami-labs/sealed-secrets>SealSecret</a> and <a href=https://github.com/getsops/sops>SOPS</a>, need to be used in real production.\n",
    "</details>"
   ]
  },
  {
   "cell_type": "code",
   "execution_count": 11,
   "metadata": {},
   "outputs": [
    {
     "name": "stdout",
     "output_type": "stream",
     "text": [
      "secret/userpwd-secret created\n"
     ]
    }
   ],
   "source": [
    "!kubectl apply -f manifests/secret.yaml"
   ]
  },
  {
   "cell_type": "markdown",
   "metadata": {},
   "source": [
    "Let's then update our Deployment so that the Pod can source the environmental variables from the ConfigMap and Secret we just created. We don't need to delete the old Deployment but can just apply the new changes to it. Notice that the Deployment name and Namespace in deployment2.yaml is same as deployment.yaml so K8s knows which object it should update. Upon receiving the changes, the Deployment will terminate the old Pod and create a new one. "
   ]
  },
  {
   "cell_type": "code",
   "execution_count": 16,
   "metadata": {},
   "outputs": [
    {
     "name": "stdout",
     "output_type": "stream",
     "text": [
      "deployment.apps/example-app created\n"
     ]
    }
   ],
   "source": [
    "!kubectl apply -f manifests/deployment2.yaml"
   ]
  },
  {
   "cell_type": "markdown",
   "metadata": {},
   "source": [
    "Now, navigate to [http://example-app.local](http://example-app.local) again, you should see the user info has been changed. "
   ]
  },
  {
   "cell_type": "markdown",
   "metadata": {},
   "source": [
    "# Hints for debugging \n",
    "It's expectable that we'll make mistakes when configure K8s objects in YAML files, or our applications just don't work as we want. Below are some common commands that help us investigate into what is going on. \n",
    "\n",
    "### kubectl describe\n",
    "This command provides detailed information about Kubernetes objects. For example, if you run `kubectl -n new-ns describe deployment example-app`, you'll see something like\n",
    "\n",
    "<img src=\"./images/describe-deployment.png\" />\n",
    "\n",
    "There are a lot of information but we usually need to docus on the events (at the end) that show you what has happened to the object. In this screenshot, we can see the Deployment has created one Pod for our App. \n",
    "\n",
    "Similarly, if we describe a Pod using`kubectl -n new-ns describe pod <pod-name>`, we can also see the events of the Pod:\n",
    "\n",
    "<img src=\"./images/describe-pod.png\" />\n",
    "\n",
    "Specifically, the Pod was assigned to a worker node. It then pulled the Docker image and created a container using the image. \n",
    "\n",
    "### kubectl logs\n",
    "This command `kubectl -n new-ns logs <pod-name>` retrieves the logs generated by the container running in a Pod. In our example, the container logs is like\n",
    "\n",
    "<img src=\"./images/container-logs.png\" />\n",
    "\n",
    "The logs show that the container (or the Pod) has received two requests. \n",
    "\n",
    "### Lens -- a dashboard for K8s (optional)\n",
    "Lens is a K8s dashboard that shows the objects, their events, and logs of Pods in a central place. If you're using the provided OVA, Lens is pre-installed and you can find it from the left dock in your Desktop. Otherwise you can install it from [its website](https://docs.k8slens.dev/getting-started/install-lens/). \n",
    "\n",
    "You'll be required to activate the Lens Desktop App the first time you use it. During the process you'll be asked to choose a subscription. You can choose the free version (Lens Desktop Personal) as shown below:\n",
    "\n",
    "<img src=\"./images/lens-activate.png\" width=800 />\n",
    "\n",
    "[This video](https://youtu.be/fjUT2uucIZk) shows the basic use of Lens. \n"
   ]
  },
  {
   "cell_type": "markdown",
   "metadata": {},
   "source": [
    "# Clean up\n",
    "Finally, let's delete everything we created in the \"new-ns\" namespace. "
   ]
  },
  {
   "cell_type": "code",
   "execution_count": 17,
   "metadata": {},
   "outputs": [
    {
     "name": "stdout",
     "output_type": "stream",
     "text": [
      "deployment.apps \"example-app\" deleted\n",
      "service \"example-app-service\" deleted\n",
      "configmap \"useraccount-configmap\" deleted\n",
      "secret \"userpwd-secret\" deleted\n",
      "ingress.networking.k8s.io \"example-app-ingress\" deleted\n",
      "namespace \"new-ns\" deleted\n"
     ]
    }
   ],
   "source": [
    "%%bash\n",
    "kubectl delete -f manifests/deployment2.yaml\n",
    "kubectl delete -f manifests/service.yaml\n",
    "kubectl delete -f manifests/configmap.yaml\n",
    "kubectl delete -f manifests/secret.yaml\n",
    "kubectl delete -f manifests/ingress.yaml\n",
    "kubectl delete -f manifests/namespace.yaml"
   ]
  }
 ],
 "metadata": {
  "kernelspec": {
   "display_name": "Python 3",
   "language": "python",
   "name": "python3"
  },
  "language_info": {
   "codemirror_mode": {
    "name": "ipython",
    "version": 3
   },
   "file_extension": ".py",
   "mimetype": "text/x-python",
   "name": "python",
   "nbconvert_exporter": "python",
   "pygments_lexer": "ipython3",
   "version": "3.10.0"
  }
 },
 "nbformat": 4,
 "nbformat_minor": 2
}
