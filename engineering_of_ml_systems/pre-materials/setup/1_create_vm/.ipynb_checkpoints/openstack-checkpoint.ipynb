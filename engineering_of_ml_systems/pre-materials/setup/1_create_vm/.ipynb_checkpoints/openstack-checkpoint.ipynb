{
 "cells": [
  {
   "cell_type": "markdown",
   "metadata": {},
   "source": [
    "# Create a Virtual Machine in CSC cPouta\n",
    "\n",
    "This notebook shows how to create a virtual machine in cPouta.\n",
    "\n",
    "> cPouta and ePouta are the IaaS cloud services at CSC, known as Finnish IT center for science. The cPouta cloud is the public cloud which is easily accessible via the internet. The ePouta cloud is a virtual private cloud designed to meet the security requirements of handling sensitive data. Both the cPouta and ePouta clouds run on the OpenStack cloud software. The Pouta cloud services are suitable for most kinds of computational workloads and any other supporting services these workloads might need.\n",
    "[Source](https://docs.csc.fi/cloud/pouta/pouta-what-is/)\n",
    "\n",
    "## First glance at cPouta\n",
    "\n",
    "We will try to create and manage a virtual machine from our local computer using openstack CLI, but you can start familizarizing with cPouta GUI reading [this guide](https://docs.csc.fi/cloud/pouta/launch-vm-from-web-gui/).\n",
    "\n",
    "## Prerequisites\n",
    "\n",
    "### 1. Configure your terminal environment for OpenStack\n",
    "\n",
    "To be able to connect to the CSC system and cPouta, we need to get some credentials.\n",
    "We can set them using a script provided in the OpenStack web interface.\n",
    "You can download this script at the following URL after logging in (remember to switch to project_2008075):\n",
    "\n",
    "https://pouta.csc.fi/dashboard/project/api_access/\n",
    "\n",
    "To download this in the web interface, navigate to the API Access section, and download both files.\n",
    "\n",
    "![api_access](./images/csc-pouta-openstack-api_access.png)\n",
    "\n",
    "If you already accesses the cPouta dashboard, these links might work to download the files directly:\n",
    "\n",
    "> https://pouta.csc.fi/dashboard/project/api_access/openrc/\n",
    "> https://pouta.csc.fi/dashboard/project/api_access/clouds.yaml/\n",
    "\n",
    "Put the files in the current directory (`setup/1_create_vm`). For simplicity, let's rename the openrc file as `openrc`.\n",
    "\n",
    "The openrc file will be necessary to use openstack with the CLI (command line interface). While the cloud.yaml file is necessary to use openstack with the python API.\n"
   ]
  },
  {
   "cell_type": "markdown",
   "metadata": {},
   "source": [
    "### 2. Install OpenStack CLI\n",
    "\n",
    "There is a quite complete guide to install the CLI [here](https://docs.csc.fi/cloud/pouta/install-client/), so if you need extra help you can use that one.\n",
    "The following is a faster step-by-step guide. \n",
    "\n",
    "**NOTE**: Unfortunately we cannot run the OpenStack CLI in the python notebook because we will need the credentials from the openrc file, so you will need to open a terminal and follow along with the terminal on the side. This will be easy if you use VSCode. If you don't want to switch between here and the terminal, you can skip this section and just use the OpenStack API with python.\n",
    "\n",
    "Once you have the openrc script from the web UI, you can add the environment variables running in the terminal:\n",
    "\n",
    "```bash\n",
    "source openrc\n",
    "```\n",
    "\n",
    "You will be asked to type in a password. **Please use the password of your CSC account**. After doing this, the current terminal session will have the proper environment variables for using the command line tools. \n",
    "\n",
    "**⚠️ NOTE: You need to do this again if you open a new terminal**.\n",
    "\n",
    "Let's install the openstack CLI:"
   ]
  },
  {
   "cell_type": "code",
   "execution_count": null,
   "metadata": {},
   "outputs": [],
   "source": [
    "%pip install python-openstackclient~=6.2.0"
   ]
  },
  {
   "cell_type": "markdown",
   "metadata": {},
   "source": [
    "### 3. Install OpenStack's Python client SDK"
   ]
  },
  {
   "cell_type": "code",
   "execution_count": null,
   "metadata": {},
   "outputs": [],
   "source": [
    "%pip install openstacksdk"
   ]
  },
  {
   "cell_type": "markdown",
   "metadata": {},
   "source": [
    "### 4. Configure the credentials that OpenStack's Python client needs for connecting to cPouta"
   ]
  },
  {
   "cell_type": "markdown",
   "metadata": {},
   "source": [
    "Be sure to have downloaded the `cloud.yaml` file from the # prerequisites chapter.\n",
    "\n",
    "After that, we need to create a `secure.yaml` file in the current directory with your password in it.\n",
    "\n",
    "**Disclaimer**: this solution is not secure, but OpenStack doesn't give other safer options. Be sure to delete this file after you are done and most importantly **NEVER COMMIT** the `secure.yaml`.\n",
    "\n",
    "Below there is a script to create the file automatically. Run it and update the password with your CSC password in the `secure.yaml` file."
   ]
  },
  {
   "cell_type": "code",
   "execution_count": null,
   "metadata": {},
   "outputs": [],
   "source": [
    "!echo -e \"clouds:\\n  openstack:\\n    auth:\\n      password: ******\" > secure.yaml"
   ]
  },
  {
   "cell_type": "markdown",
   "metadata": {},
   "source": [
    "Now update the password.\n",
    "\n",
    "As long as the configuration files (cloud and secure) are in one the following paths, the connection should work automatically:\n",
    "\n",
    "- Current Directory\n",
    "- ~/.config/openstack\n",
    "- /etc/openstack\n",
    "\n",
    "So we can start a connection to cPouta and create a virtual machine there."
   ]
  },
  {
   "cell_type": "markdown",
   "metadata": {},
   "source": [
    "## Create a virtual machine\n",
    "\n",
    "We will mainly use the Python client in this notebook. The complete guide on how to work with the CLI is [here](https://docs.csc.fi/cloud/pouta/command-line-tools/)"
   ]
  },
  {
   "cell_type": "code",
   "execution_count": null,
   "metadata": {},
   "outputs": [],
   "source": [
    "import openstack\n",
    "from openstack.connection import Connection\n",
    "\n",
    "# Initialize and turn off debug logging\n",
    "openstack.enable_logging(debug=False)\n",
    "\n",
    "# Initialize the connection to the cloud\n",
    "conn: Connection = openstack.connect(cloud=\"openstack\")\n"
   ]
  },
  {
   "cell_type": "markdown",
   "metadata": {},
   "source": [
    "First of all, we need to create a key pair:"
   ]
  },
  {
   "cell_type": "code",
   "execution_count": null,
   "metadata": {},
   "outputs": [],
   "source": [
    "import os\n",
    "import errno\n",
    "from openstack.compute.v2.keypair import Keypair\n",
    "\n",
    "\n",
    "def create_keypair(conn: Connection, keypair_name: str) -> Keypair:\n",
    "    keypair = conn.compute.find_keypair(keypair_name)\n",
    "\n",
    "    if not keypair:\n",
    "        print(\"Creating Key Pair...\")\n",
    "        keypair = conn.compute.create_keypair(name=keypair_name)\n",
    "        ssh_dir_name = os.path.join(os.environ[\"HOME\"], \".ssh\")\n",
    "        \n",
    "        # create .ssh folder under your home directory if not existing\n",
    "        os.makedirs(ssh_dir_name, exist_ok=True)\n",
    "        \n",
    "        private_keypair_file_path = os.path.join(\n",
    "            ssh_dir_name, keypair_name\n",
    "        )\n",
    "        \n",
    "        with open(private_keypair_file_path, \"w\") as f:\n",
    "            f.write(\"%s\" % keypair.private_key)\n",
    "\n",
    "        os.chmod(private_keypair_file_path, 0o400)\n",
    "        print(\"Done.\")\n",
    "    else:\n",
    "        print(f\"The keypair {keypair_name} is already in the system.\")\n",
    "\n",
    "    return keypair\n",
    "\n",
    "\n",
    "keypair = create_keypair(conn, f\"{conn.auth['username']}-tutorial\")\n",
    "print(f\"\\n\\tKey pair: {keypair.name} - {keypair.location.project.name}\\n\")\n"
   ]
  },
  {
   "cell_type": "markdown",
   "metadata": {},
   "source": [
    "You will see the keys created:\n",
    "\n",
    "![keypair](./images/tutorial-openstack-keypair.png)\n",
    "\n",
    "**Note**: If you want to delete an existing keypair and create a new one, remember to delete both the public key in cPouta and the private key in the `.ssh` folder under your home directory. \n",
    "\n",
    "Now we can try to create server. To do that, we need to define some details such as network, type of instance and image to start from.\n",
    "\n",
    "Let's print the ones that are already available:"
   ]
  },
  {
   "cell_type": "code",
   "execution_count": null,
   "metadata": {},
   "outputs": [],
   "source": [
    "print(\"Available standard instances types:\")\n",
    "all_flavors = conn.compute.flavors()\n",
    "for flavor in sorted(all_flavors, key=lambda x: x.name):\n",
    "    if flavor.name.startswith(\"standard\"):\n",
    "        print(\" - \" + flavor.name)\n",
    "\n",
    "print(\"\\nAvailable networks:\")\n",
    "all_networks = conn.network.networks()\n",
    "for network in all_networks:\n",
    "    print(\" - \" + network.name)\n",
    "\n",
    "\n",
    "print(\"\\nAvailable images:\")\n",
    "all_images = conn.compute.images()\n",
    "for image in all_images:\n",
    "    print(\" - \" + image.name)\n"
   ]
  },
  {
   "cell_type": "markdown",
   "metadata": {},
   "source": [
    "So now we can pick one of each and define a function to create the server. This step will take a while. "
   ]
  },
  {
   "cell_type": "code",
   "execution_count": null,
   "metadata": {},
   "outputs": [],
   "source": [
    "# The openstack object has no return type, so the IDE cannot find the right type with intellisense\n",
    "# We import them only for autocomplete in the IDE and for extra detail, but it's not needed\n",
    "from openstack.compute.v2.image import Image\n",
    "from openstack.compute.v2.flavor import Flavor\n",
    "from openstack.network.v2.network import Network\n",
    "from openstack.compute.v2.server import Server\n",
    "import openstack.compute.v2.server\n",
    "\n",
    "\n",
    "def create_server(\n",
    "    conn: Connection,\n",
    "    server_name: str,\n",
    "    image_name: str,\n",
    "    instance_flavor: str,\n",
    "    network_name: str,\n",
    "    keypair: Keypair,\n",
    ") -> Server:\n",
    "    server = conn.compute.find_server(server_name)\n",
    "    if server is None:\n",
    "        print(\"Creating Server:\")\n",
    "        image: Image = conn.image.find_image(image_name)\n",
    "        flavor: Flavor = conn.compute.find_flavor(instance_flavor)\n",
    "        network: Network = conn.network.find_network(network_name)\n",
    "        server: Server = conn.compute.create_server(\n",
    "            name=server_name,\n",
    "            image_id=image.id,\n",
    "            flavor_id=flavor.id,\n",
    "            networks=[{\"uuid\": network.id}],\n",
    "            key_name=keypair.name,\n",
    "        )\n",
    "\n",
    "        server: Server = conn.compute.wait_for_server(server)\n",
    "        print(f\"Server created: {server.name}\")\n",
    "    else:\n",
    "        print(f\"The server {server_name} is already running.\")\n",
    "    return server\n",
    "\n",
    "\n",
    "server_name = f\"{conn.auth['username']}-tutorial\"\n",
    "image_name = \"Ubuntu-22.04\"\n",
    "instance_flavor = \"standard.xlarge\"\n",
    "network_name = \"project_2008075\"\n",
    "\n",
    "server = create_server(\n",
    "    conn,\n",
    "    server_name,\n",
    "    image_name,\n",
    "    instance_flavor,\n",
    "    network_name,\n",
    "    keypair,\n",
    ")\n"
   ]
  },
  {
   "cell_type": "markdown",
   "metadata": {},
   "source": [
    "The server should appear on the dashboard like below:\n",
    "\n",
    "![server](./images/tutorial-openstack-server.png)\n",
    "\n",
    "### Access the server through SSH\n",
    "\n",
    "The IP that you see in the image is a private network IP.\n",
    "\n",
    "Now that we have a server, we can give it a *Floating IP* (i.e. a public IP) so that we can access with SSH to run commands on it.\n",
    "\n",
    "If we give a *Floating IP*, and we add the right security group and port forwarding rules to the server, we can access it from our local machine.\n",
    "\n",
    "⚠️ **NOTE** ⚠️: the Python API are broken for this passage, so for now we need to run the commands on a terminal that has the right credentials.\n",
    "\n",
    "Run the following python code and follow the instructions:"
   ]
  },
  {
   "cell_type": "code",
   "execution_count": null,
   "metadata": {},
   "outputs": [],
   "source": [
    "from openstack.network.v2.security_group import SecurityGroup\n",
    "from openstack.network.v2.floating_ip import FloatingIP\n",
    "\n",
    "server: Server = conn.compute.find_server(server_name, ignore_missing=False)\n",
    "floating_ip: FloatingIP = conn.network.find_available_ip()\n",
    "print(f\"Available floating IP: {floating_ip.floating_ip_address}\")\n",
    "security_group: SecurityGroup = conn.network.find_security_group(\"ssh\")\n",
    "print(f\"Security group found: {security_group.name}\")\n",
    "\n",
    "# NOTE: The APIs are broken, but it would be:\n",
    "# conn.compute.add_floating_ip_to_server(server, floating_ip.floating_ip_address, floating_ip.fixed_ip_address)\n",
    "# conn.compute.add_security_group_to_server(conn, security_group)\n",
    "print(\"Run on your terminal these commands one at a time:\")\n",
    "print(f\"\\tsource $(git rev-parse --show-toplevel)/setup/1_create_vm/openrc\")\n",
    "print(f\"\\topenstack server add floating ip {server.name} {floating_ip.floating_ip_address}\")\n",
    "print(f\"\\topenstack server add security group {server.name} {security_group.name}\")\n",
    "print(f\"\\topenstack server lock {server.name}\") # prevent your VM from accidental deletion"
   ]
  },
  {
   "cell_type": "code",
   "execution_count": null,
   "metadata": {},
   "outputs": [],
   "source": [
    "# We assume your private key file is in $HOME/.ssh\n",
    "private_key_file_path = os.path.join(os.environ[\"HOME\"], \".ssh\", keypair.name)\n",
    "username = \"ubuntu\" if \"Ubuntu\" in image_name else \"root\"\n",
    "print(\"You can now access the server:\")\n",
    "print(f\"\\n\\tssh -i {private_key_file_path} {username}@{floating_ip.floating_ip_address}\")"
   ]
  },
  {
   "cell_type": "markdown",
   "metadata": {},
   "source": [
    "NOTE: if you tried multiple times to run these cells and you already put the floating IP to your `known_hosts` file, you might get the following message when you try to ssh into the instance:\n",
    "\n",
    "```text\n",
    "@@@@@@@@@@@@@@@@@@@@@@@@@@@@@@@@@@@@@@@@@@@@@@@@@@@@@@@@@@@\n",
    "@    WARNING: REMOTE HOST IDENTIFICATION HAS CHANGED!     @\n",
    "@@@@@@@@@@@@@@@@@@@@@@@@@@@@@@@@@@@@@@@@@@@@@@@@@@@@@@@@@@@\n",
    "IT IS POSSIBLE THAT SOMEONE IS DOING SOMETHING NASTY!\n",
    "Someone could be eavesdropping on you right now (man-in-the-middle attack)!\n",
    "It is also possible that a host key has just been changed.\n",
    "The fingerprint for the ED25519 key sent by the remote host is\n",
    "SHA256:XXXXX\n",
    "Please contact your system administrator.\n",
    "Add correct host key in HOME/.ssh/known_hosts to get rid of this message.\n",
    "Offending ECDSA key in HOME/.ssh/known_hosts:7\n",
    "Host key for INSTANCE_IP has changed and you have requested strict checking.\n",
    "Host key verification failed.\n",
    "```\n",
    "\n",
    "To solve this, you can simply get the `floating_ip` from the previous run, and run:\n",
    "\n",
    "```bash\n",
    "ssh-keygen -R 128.214.255.99\n",
    "```\n",
    "\n",
    "and then try to ssh again into the instance."
   ]
  },
  {
   "cell_type": "markdown",
   "metadata": {},
   "source": [
    "## Delete a virtual machine\n",
    "You can delete your VM from cPouta GUI or using the OpenStack CLI.\n",
    "\n",
    "**WARNING**: The deletion is unrecoverable and normally you don't need this step. If you do want to delete your VM, please make sure you only delete **your own one**, i.e., the VM whose name starts with your CSC username. \n",
    "\n",
    "Using GUI: \n",
    "\n",
    "First unlock your VM\n",
    "![](./images/unlock-vm.jpg)\n",
    "\n",
    "Then delete your VM\n",
    "![](./images/delete-vm.jpg)\n",
    "\n",
    "CLI:\n",
    "```bash\n",
    "openstack server unlock <your-vm-name>\n",
    "openstack server delete <your-vm-name>\n",
    "```"
   ]
  }
 ],
 "metadata": {
  "kernelspec": {
   "display_name": "Python 3 (ipykernel)",
   "language": "python",
   "name": "python3"
  },
  "language_info": {
   "codemirror_mode": {
    "name": "ipython",
    "version": 3
   },
   "file_extension": ".py",
   "mimetype": "text/x-python",
   "name": "python",
   "nbconvert_exporter": "python",
   "pygments_lexer": "ipython3",
   "version": "3.10.0"
  },
  "vscode": {
   "interpreter": {
    "hash": "1af830c9235f9ba868d8558096ef7bcb04f6de668e2e56380e2ec08c356779a6"
   }
  }
 },
 "nbformat": 4,
 "nbformat_minor": 2
}
