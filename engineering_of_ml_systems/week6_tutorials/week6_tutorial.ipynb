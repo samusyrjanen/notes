{
 "cells": [
  {
   "cell_type": "markdown",
   "metadata": {},
   "source": [
    "# Monitoring\n",
    "\n",
    "Deploying a model to production is not the end. We need to continually monitor the model to make sure it still performs as expected after being deployed to production. From a high level, model monitoring includes two types: 1) service-level monitoring, such as the resource (CPU/GPU/memory) usage and the response latency/status of the inference service, and 2) model-level monitoring, such as the prediction error, target and data drift. \n",
    "\n",
    "This week's tutorials include two parts:\n",
    "- [Service-level monitoring using Prometheus and Grafana](./tutorials/1_prometheus.ipynb)\n",
    "- [Model-level monitoring using Evidently](./tutorials/2_evidently.ipynb)"
   ]
  }
 ],
 "metadata": {
  "kernelspec": {
   "display_name": "Python 3",
   "language": "python",
   "name": "python3"
  },
  "language_info": {
   "name": "python",
   "version": "3.10.0"
  }
 },
 "nbformat": 4,
 "nbformat_minor": 2
}
