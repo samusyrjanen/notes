{
 "cells": [
  {
   "cell_type": "markdown",
   "metadata": {},
   "source": [
    "# Week 2 tutorials\n",
    "You've probably heard of the rule \"garbage in, garbage out\", meaning the quality of the output is determined by the quality of the input. This week's tutorials introduce you two tools that you'll use in the assignments of data preprocessing. First, the \"TheFuzz\" library, which aids in automatically fixing typos within your dataset. Second, we'll introduce \"Great Expectations,\" a tool designed to validate your data. These tools help you enhance your data preprocessing, which can further improve your model performance. \n",
    "\n",
    "- [Introduction to the TheFuzz library](./tutorials/thefuzz.ipynb)\n",
    "- [Introduction to Great Expectations](./tutorials/great_expectations/great_expectations.ipynb)\n",
    "\n",
    "In the assignments, you will also learn other data preprocessing techniques. These include methods like imputing missing values and performing target encoding. The documentation for the tools required to implement these approaches is quite comprehensive, so we won't cover them in the tutorials. Instead, you'll familiarize yourself with these tools as you work through the assignments."
   ]
  }
 ],
 "metadata": {
  "language_info": {
   "name": "python"
  }
 },
 "nbformat": 4,
 "nbformat_minor": 2
}
