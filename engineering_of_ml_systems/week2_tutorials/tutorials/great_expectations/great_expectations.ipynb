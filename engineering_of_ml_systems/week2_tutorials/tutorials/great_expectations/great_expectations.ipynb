{
 "cells": [
  {
   "cell_type": "markdown",
   "metadata": {},
   "source": [
    "# Great Expectations\n",
    "[Great Expectations](https://docs.greatexpectations.io/docs/) is a tool for data validation. You can think of this as running unit tests on our data. To gain a first impression of Great Expectations, we recommend taking a look at the [quick-start tutorial](https://docs.greatexpectations.io/docs/tutorials/quickstart/) provided by Great Expectations. "
   ]
  },
  {
   "cell_type": "code",
   "execution_count": 1,
   "metadata": {},
   "outputs": [],
   "source": [
    "import great_expectations as gx\n",
    "from great_expectations.data_context import EphemeralDataContext, FileDataContext\n",
    "from great_expectations.datasource.fluent import BatchRequest\n",
    "from great_expectations.exceptions import DataContextError\n",
    "from great_expectations.expectations.expectation import Expectation\n",
    "from great_expectations.checkpoint.types.checkpoint_result import CheckpointResult\n",
    "\n",
    "from pathlib import Path\n",
    "import pandas as pd\n",
    "from sklearn.model_selection import train_test_split\n",
    "\n",
    "from IPython.display import display"
   ]
  },
  {
   "cell_type": "code",
   "execution_count": 2,
   "metadata": {},
   "outputs": [],
   "source": [
    "WORKING_DIR = Path.cwd()\n",
    "RANDOM_SEED = 42"
   ]
  },
  {
   "cell_type": "markdown",
   "metadata": {},
   "source": [
    "We use the familiar wine quality dataset in the following example. "
   ]
  },
  {
   "cell_type": "code",
   "execution_count": 3,
   "metadata": {},
   "outputs": [],
   "source": [
    "csv_url = \"http://archive.ics.uci.edu/ml/machine-learning-databases/wine-quality/winequality-red.csv\"\n",
    "data = pd.read_csv(csv_url, sep=\";\")\n",
    "\n",
    "# Split the data into training and test sets. (0.75, 0.25) split.\n",
    "train_df, test_df = train_test_split(data, random_state=RANDOM_SEED)"
   ]
  },
  {
   "cell_type": "markdown",
   "metadata": {},
   "source": [
    "## 1. Instantiate Great Expectations\n",
    "Let's first instantiate an entry point for Great Expectations so we can get started with it. Running the code cell below creates a folder `gx` in your working directory with all things related to working with Great Expectations. \n",
    "\n",
    "To better understand what the code below does, you can go through the following concepts used by Great Expectations [here](https://docs.greatexpectations.io/docs/glossary).\n",
    "- Data Context\n",
    "- Data Source\n",
    "- Data Asset\n",
    "- Batch Request\n",
    "- Expectation and Expectation Suite\n",
    "- Validator"
   ]
  },
  {
   "cell_type": "code",
   "execution_count": 4,
   "metadata": {},
   "outputs": [
    {
     "data": {
      "application/vnd.jupyter.widget-view+json": {
       "model_id": "53a9d1dd402c4dcc8f76aa93e1adc2a2",
       "version_major": 2,
       "version_minor": 0
      },
      "text/plain": [
       "Calculating Metrics:   0%|          | 0/1 [00:00<?, ?it/s]"
      ]
     },
     "metadata": {},
     "output_type": "display_data"
    },
    {
     "data": {
      "text/html": [
       "<div>\n",
       "<style scoped>\n",
       "    .dataframe tbody tr th:only-of-type {\n",
       "        vertical-align: middle;\n",
       "    }\n",
       "\n",
       "    .dataframe tbody tr th {\n",
       "        vertical-align: top;\n",
       "    }\n",
       "\n",
       "    .dataframe thead th {\n",
       "        text-align: right;\n",
       "    }\n",
       "</style>\n",
       "<table border=\"1\" class=\"dataframe\">\n",
       "  <thead>\n",
       "    <tr style=\"text-align: right;\">\n",
       "      <th></th>\n",
       "      <th>fixed acidity</th>\n",
       "      <th>volatile acidity</th>\n",
       "      <th>citric acid</th>\n",
       "      <th>residual sugar</th>\n",
       "      <th>chlorides</th>\n",
       "      <th>free sulfur dioxide</th>\n",
       "      <th>total sulfur dioxide</th>\n",
       "      <th>density</th>\n",
       "      <th>pH</th>\n",
       "      <th>sulphates</th>\n",
       "      <th>alcohol</th>\n",
       "      <th>quality</th>\n",
       "    </tr>\n",
       "  </thead>\n",
       "  <tbody>\n",
       "    <tr>\n",
       "      <th>0</th>\n",
       "      <td>11.7</td>\n",
       "      <td>0.490</td>\n",
       "      <td>0.49</td>\n",
       "      <td>2.2</td>\n",
       "      <td>0.083</td>\n",
       "      <td>5.0</td>\n",
       "      <td>15.0</td>\n",
       "      <td>1.00000</td>\n",
       "      <td>3.19</td>\n",
       "      <td>0.43</td>\n",
       "      <td>9.2</td>\n",
       "      <td>5</td>\n",
       "    </tr>\n",
       "    <tr>\n",
       "      <th>1</th>\n",
       "      <td>8.8</td>\n",
       "      <td>0.600</td>\n",
       "      <td>0.29</td>\n",
       "      <td>2.2</td>\n",
       "      <td>0.098</td>\n",
       "      <td>5.0</td>\n",
       "      <td>15.0</td>\n",
       "      <td>0.99880</td>\n",
       "      <td>3.36</td>\n",
       "      <td>0.49</td>\n",
       "      <td>9.1</td>\n",
       "      <td>5</td>\n",
       "    </tr>\n",
       "    <tr>\n",
       "      <th>2</th>\n",
       "      <td>7.1</td>\n",
       "      <td>0.590</td>\n",
       "      <td>0.00</td>\n",
       "      <td>2.1</td>\n",
       "      <td>0.091</td>\n",
       "      <td>9.0</td>\n",
       "      <td>14.0</td>\n",
       "      <td>0.99488</td>\n",
       "      <td>3.42</td>\n",
       "      <td>0.55</td>\n",
       "      <td>11.5</td>\n",
       "      <td>7</td>\n",
       "    </tr>\n",
       "    <tr>\n",
       "      <th>3</th>\n",
       "      <td>8.3</td>\n",
       "      <td>0.540</td>\n",
       "      <td>0.24</td>\n",
       "      <td>3.4</td>\n",
       "      <td>0.076</td>\n",
       "      <td>16.0</td>\n",
       "      <td>112.0</td>\n",
       "      <td>0.99760</td>\n",
       "      <td>3.27</td>\n",
       "      <td>0.61</td>\n",
       "      <td>9.4</td>\n",
       "      <td>5</td>\n",
       "    </tr>\n",
       "    <tr>\n",
       "      <th>4</th>\n",
       "      <td>9.3</td>\n",
       "      <td>0.775</td>\n",
       "      <td>0.27</td>\n",
       "      <td>2.8</td>\n",
       "      <td>0.078</td>\n",
       "      <td>24.0</td>\n",
       "      <td>56.0</td>\n",
       "      <td>0.99840</td>\n",
       "      <td>3.31</td>\n",
       "      <td>0.67</td>\n",
       "      <td>10.6</td>\n",
       "      <td>6</td>\n",
       "    </tr>\n",
       "  </tbody>\n",
       "</table>\n",
       "</div>"
      ],
      "text/plain": [
       "   fixed acidity  volatile acidity  citric acid  residual sugar  chlorides  \\\n",
       "0           11.7             0.490         0.49             2.2      0.083   \n",
       "1            8.8             0.600         0.29             2.2      0.098   \n",
       "2            7.1             0.590         0.00             2.1      0.091   \n",
       "3            8.3             0.540         0.24             3.4      0.076   \n",
       "4            9.3             0.775         0.27             2.8      0.078   \n",
       "\n",
       "   free sulfur dioxide  total sulfur dioxide  density    pH  sulphates  \\\n",
       "0                  5.0                  15.0  1.00000  3.19       0.43   \n",
       "1                  5.0                  15.0  0.99880  3.36       0.49   \n",
       "2                  9.0                  14.0  0.99488  3.42       0.55   \n",
       "3                 16.0                 112.0  0.99760  3.27       0.61   \n",
       "4                 24.0                  56.0  0.99840  3.31       0.67   \n",
       "\n",
       "   alcohol  quality  \n",
       "0      9.2        5  \n",
       "1      9.1        5  \n",
       "2     11.5        7  \n",
       "3      9.4        5  \n",
       "4     10.6        6  "
      ]
     },
     "metadata": {},
     "output_type": "display_data"
    }
   ],
   "source": [
    "wine_datasource_name = \"wine_datasource\"\n",
    "wine_expectation_suite_name = \"wine_expectation_suite\"\n",
    "\n",
    "# Instantiate a Data Context and save it in filesystem.\n",
    "context = gx.get_context(project_root_dir=str(WORKING_DIR))\n",
    "\n",
    "# Connect to data in our wine DataFrame.\n",
    "try:\n",
    "    # Create a new Data Source in the Data Context\n",
    "    datasource = context.sources.add_pandas(name=wine_datasource_name)\n",
    "except DataContextError:\n",
    "    # The Data Source already exists in the Data Context\n",
    "    datasource = context.get_datasource(wine_datasource_name)\n",
    "\n",
    "try:\n",
    "    # Create a new DataFrame Data Asset\n",
    "    training_data_asset = datasource.add_dataframe_asset(name=\"training_data\")\n",
    "except ValueError:\n",
    "    # The Data Asset already exists\n",
    "    training_data_asset = datasource.get_asset(\"training_data\")\n",
    "\n",
    "# Request all data in the training DataFrame as a single batch\n",
    "training_batch_request = training_data_asset.build_batch_request(dataframe=train_df)\n",
    "\n",
    "# Create an Expectation Suite \n",
    "context.add_or_update_expectation_suite(wine_expectation_suite_name)\n",
    "\n",
    "# Create a Validator\n",
    "wine_validator = context.get_validator(\n",
    "    batch_request=training_batch_request,\n",
    "    expectation_suite_name=wine_expectation_suite_name\n",
    ")\n",
    "display(wine_validator.head())"
   ]
  },
  {
   "cell_type": "markdown",
   "metadata": {},
   "source": [
    "## 2. Create Expectations\n",
    "After creating a Validator, we can start to define Expectations interactively (other ways exist as well). We can define Expectations by calling the `expect_*` methods of the Validator object. Each method performs two tasks: \n",
    "1) it stores the defined Expectation to the Expectation Suite, \n",
    "2) it also runs the Expectation against the data loaded into the Validator (`train_df` in this case), and returns an `ExpectationValidationResult` object, which is a dictionary holding the test results. This way a user can see if the Expectations they have suggested align with the data loaded into the Validator.\n",
    "\n",
    "Let's define an Expectation to make sure that there is no null value in the target column. "
   ]
  },
  {
   "cell_type": "code",
   "execution_count": 5,
   "metadata": {},
   "outputs": [
    {
     "data": {
      "application/vnd.jupyter.widget-view+json": {
       "model_id": "8489a17fa2644306a179cf4f9c7b427f",
       "version_major": 2,
       "version_minor": 0
      },
      "text/plain": [
       "Calculating Metrics:   0%|          | 0/6 [00:00<?, ?it/s]"
      ]
     },
     "metadata": {},
     "output_type": "display_data"
    },
    {
     "name": "stdout",
     "output_type": "stream",
     "text": [
      "Test status: Succeeded\n",
      "Expectation: expect_column_values_to_not_be_null\n"
     ]
    }
   ],
   "source": [
    "result = wine_validator.expect_column_values_to_not_be_null(\"quality\")\n",
    "print(f\"Test status: {'Succeeded' if result['success'] else 'failed'}\")\n",
    "print(f\"Expectation: {result['expectation_config']['expectation_type']}\")\n"
   ]
  },
  {
   "cell_type": "markdown",
   "metadata": {},
   "source": [
    "The Expectation Suite we have configured this far exists only in memory and has to be persisted for future use. Let's save the Expectation Suite into our Data Context."
   ]
  },
  {
   "cell_type": "code",
   "execution_count": 6,
   "metadata": {},
   "outputs": [],
   "source": [
    "wine_validator.save_expectation_suite()"
   ]
  },
  {
   "cell_type": "markdown",
   "metadata": {},
   "source": [
    "## 3. Validate new data against the defined Expectations\n",
    "Let's run our newly defined Expectation Suite against the test data. This is done by creating and configuring a [Checkpoint](https://docs.greatexpectations.io/docs/terms/checkpoint)."
   ]
  },
  {
   "cell_type": "code",
   "execution_count": 7,
   "metadata": {},
   "outputs": [],
   "source": [
    "try:\n",
    "    # Create a new DataFrame Data Asset\n",
    "    test_data_asset = datasource.add_dataframe_asset(name=\"test_data\")\n",
    "except ValueError:\n",
    "    # The Data Asset already exists\n",
    "    test_data_asset = datasource.get_asset(\"test_data\")\n",
    "\n",
    "# Request all data in the test DataFrame as a single batch\n",
    "test_batch_request = test_data_asset.build_batch_request(dataframe=test_df)"
   ]
  },
  {
   "cell_type": "code",
   "execution_count": 8,
   "metadata": {},
   "outputs": [
    {
     "data": {
      "application/vnd.jupyter.widget-view+json": {
       "model_id": "202eb666da0e405e8b3c8f2fe4ab907f",
       "version_major": 2,
       "version_minor": 0
      },
      "text/plain": [
       "Calculating Metrics:   0%|          | 0/8 [00:00<?, ?it/s]"
      ]
     },
     "metadata": {},
     "output_type": "display_data"
    }
   ],
   "source": [
    "checkpoint = context.add_or_update_checkpoint(\n",
    "    name=\"test_checkpoint\",\n",
    "    batch_request=test_batch_request,\n",
    "    expectation_suite_name=wine_expectation_suite_name\n",
    ")\n",
    "checkpoint_result = checkpoint.run(run_name=\"test_run1\")\n"
   ]
  },
  {
   "cell_type": "code",
   "execution_count": null,
   "metadata": {},
   "outputs": [],
   "source": [
    "context.view_validation_result(checkpoint_result)\n",
    "\n",
    "# The result is persisted in the `gx` directory and you can also check the result from gx/uncommitted/data_docs/local_site/index.html"
   ]
  }
 ],
 "metadata": {
  "kernelspec": {
   "display_name": "Python 3",
   "language": "python",
   "name": "python3"
  },
  "language_info": {
   "codemirror_mode": {
    "name": "ipython",
    "version": 3
   },
   "file_extension": ".py",
   "mimetype": "text/x-python",
   "name": "python",
   "nbconvert_exporter": "python",
   "pygments_lexer": "ipython3",
   "version": "3.10.0"
  }
 },
 "nbformat": 4,
 "nbformat_minor": 2
}
