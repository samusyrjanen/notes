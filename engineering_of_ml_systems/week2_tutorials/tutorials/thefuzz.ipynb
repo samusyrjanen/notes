{
 "cells": [
  {
   "cell_type": "markdown",
   "metadata": {},
   "source": [
    "# TheFuzz library\n",
    "Sometimes a dataset may include typos. Let's consider the following DataFrame that shows restaurant reviews given by some people:\n",
    "|name|review|\n",
    "|----|------|\n",
    "|Jussi|good|\n",
    "|Mary|terrible|\n",
    "|Alex|excellent|\n",
    "|Johanna|god|\n",
    "|Lauri|exellent|\n",
    "\n",
    "We can easily realize there should be three categories in reviews: \"good\", \"terrible\", and \"excellent\", while \"god\" and \"exellent\" are clearly typos. We can of course manually fix the typos but it makes more sense to automate the process, since there is no guarantee that we won't see other typos when we receive more reviews. One popular choice in correcting typos is to use fuzzy string matching. This is where [TheFuzz](https://github.com/seatgeek/thefuzz) library comes into the play. TheFuzz can be used to calculate the similarity of strings $a$ and $b$ using the Levenshtein similarity ratio\n",
    "$$\n",
    "\\frac{|a|+|b|-\\text{lev}(a,b)}{|a|+|b|},\n",
    "$$\n",
    "where $|a|$ and $|b|$ are string lengths and $\\text{lev}(a,b)$ is the [Levenshtein distance](https://en.wikipedia.org/wiki/Levenshtein_distance). In the TheFuzz library, this ratio is named \"simple ratio\" and used to calculate a \"similarity score\". This similarity score is scaled to be a number between 0-100, where 100 signals maximal similarity (identical strings). \n",
    "\n",
    "Let's now use the TheFuzz library to correct the typos in the DataFrame. "
   ]
  },
  {
   "cell_type": "code",
   "execution_count": 1,
   "metadata": {},
   "outputs": [],
   "source": [
    "import pandas as pd\n",
    "from thefuzz import fuzz, process"
   ]
  },
  {
   "cell_type": "code",
   "execution_count": 4,
   "metadata": {},
   "outputs": [
    {
     "data": {
      "text/html": [
       "<div>\n",
       "<style scoped>\n",
       "    .dataframe tbody tr th:only-of-type {\n",
       "        vertical-align: middle;\n",
       "    }\n",
       "\n",
       "    .dataframe tbody tr th {\n",
       "        vertical-align: top;\n",
       "    }\n",
       "\n",
       "    .dataframe thead th {\n",
       "        text-align: right;\n",
       "    }\n",
       "</style>\n",
       "<table border=\"1\" class=\"dataframe\">\n",
       "  <thead>\n",
       "    <tr style=\"text-align: right;\">\n",
       "      <th></th>\n",
       "      <th>name</th>\n",
       "      <th>reviews</th>\n",
       "    </tr>\n",
       "  </thead>\n",
       "  <tbody>\n",
       "    <tr>\n",
       "      <th>0</th>\n",
       "      <td>Jussi</td>\n",
       "      <td>good</td>\n",
       "    </tr>\n",
       "    <tr>\n",
       "      <th>1</th>\n",
       "      <td>Mary</td>\n",
       "      <td>terrible</td>\n",
       "    </tr>\n",
       "    <tr>\n",
       "      <th>2</th>\n",
       "      <td>Alex</td>\n",
       "      <td>excellent</td>\n",
       "    </tr>\n",
       "    <tr>\n",
       "      <th>3</th>\n",
       "      <td>Johanna</td>\n",
       "      <td>god</td>\n",
       "    </tr>\n",
       "    <tr>\n",
       "      <th>4</th>\n",
       "      <td>Lauri</td>\n",
       "      <td>exellent</td>\n",
       "    </tr>\n",
       "  </tbody>\n",
       "</table>\n",
       "</div>"
      ],
      "text/plain": [
       "      name    reviews\n",
       "0    Jussi       good\n",
       "1     Mary   terrible\n",
       "2     Alex  excellent\n",
       "3  Johanna        god\n",
       "4    Lauri   exellent"
      ]
     },
     "execution_count": 4,
     "metadata": {},
     "output_type": "execute_result"
    }
   ],
   "source": [
    "# Construct the DataFrame\n",
    "df = pd.DataFrame.from_dict({\"name\": [\"Jussi\", \"Mary\", \"Alex\", \"Johanna\", \"Lauri\"], \"reviews\": [\"good\", \"terrible\", \"excellent\", \"god\", \"exellent\"]})\n",
    "df"
   ]
  },
  {
   "cell_type": "code",
   "execution_count": 5,
   "metadata": {},
   "outputs": [
    {
     "name": "stdout",
     "output_type": "stream",
     "text": [
      "The similarity score between good and good is 100\n",
      "The similarity score between terrible and terrible is 100\n",
      "The similarity score between excellent and excellent is 100\n",
      "The similarity score between good and god is 86\n",
      "The similarity score between excellent and exellent is 94\n"
     ]
    },
    {
     "data": {
      "text/html": [
       "<div>\n",
       "<style scoped>\n",
       "    .dataframe tbody tr th:only-of-type {\n",
       "        vertical-align: middle;\n",
       "    }\n",
       "\n",
       "    .dataframe tbody tr th {\n",
       "        vertical-align: top;\n",
       "    }\n",
       "\n",
       "    .dataframe thead th {\n",
       "        text-align: right;\n",
       "    }\n",
       "</style>\n",
       "<table border=\"1\" class=\"dataframe\">\n",
       "  <thead>\n",
       "    <tr style=\"text-align: right;\">\n",
       "      <th></th>\n",
       "      <th>name</th>\n",
       "      <th>reviews</th>\n",
       "    </tr>\n",
       "  </thead>\n",
       "  <tbody>\n",
       "    <tr>\n",
       "      <th>0</th>\n",
       "      <td>Jussi</td>\n",
       "      <td>good</td>\n",
       "    </tr>\n",
       "    <tr>\n",
       "      <th>1</th>\n",
       "      <td>Mary</td>\n",
       "      <td>terrible</td>\n",
       "    </tr>\n",
       "    <tr>\n",
       "      <th>2</th>\n",
       "      <td>Alex</td>\n",
       "      <td>excellent</td>\n",
       "    </tr>\n",
       "    <tr>\n",
       "      <th>3</th>\n",
       "      <td>Johanna</td>\n",
       "      <td>good</td>\n",
       "    </tr>\n",
       "    <tr>\n",
       "      <th>4</th>\n",
       "      <td>Lauri</td>\n",
       "      <td>excellent</td>\n",
       "    </tr>\n",
       "  </tbody>\n",
       "</table>\n",
       "</div>"
      ],
      "text/plain": [
       "      name    reviews\n",
       "0    Jussi       good\n",
       "1     Mary   terrible\n",
       "2     Alex  excellent\n",
       "3  Johanna       good\n",
       "4    Lauri  excellent"
      ]
     },
     "execution_count": 5,
     "metadata": {},
     "output_type": "execute_result"
    }
   ],
   "source": [
    "# Use TheFizz to fix the typos\n",
    "correct_categories = [\"good\", \"terrible\", \"excellent\"]\n",
    "matches = []\n",
    "for entry in df[\"reviews\"]:\n",
    "    best_match, score = process.extractOne(entry, correct_categories, scorer=fuzz.ratio)\n",
    "    matches.append(best_match)\n",
    "    print(f\"The similarity score between {best_match} and {entry} is {score}\")\n",
    "df[\"reviews\"] = matches\n",
    "df"
   ]
  },
  {
   "cell_type": "markdown",
   "metadata": {},
   "source": [
    "Let's take a closer look at what happened. \n",
    "```python\n",
    "for entry in df[\"reviews\"]:\n",
    "    best_match, score = process.extractOne(entry, correct_categories, scorer=fuzz.ratio)\n",
    "```\n",
    "For each entry in the \"reviews\" column, we use the [process.extractOne](https://github.com/seatgeek/thefuzz#process) function to find the single best match for the entry from a list of choices. The `extract_one` function accepts a `scorer` parameter, which is a function used for calculating the similarity score. In our example, we use `fuzz.score` to calculate similarity based on the Levenshtein distance.\n",
    "\n",
    "TheFuzz also support other scoring functions, you can find more details from its documentations if you're interested. "
   ]
  },
  {
   "cell_type": "markdown",
   "metadata": {},
   "source": [
    "You can now go to [the next tutorial](./great_expectations/great_expectations.ipynb). "
   ]
  }
 ],
 "metadata": {
  "kernelspec": {
   "display_name": "Python 3",
   "language": "python",
   "name": "python3"
  },
  "language_info": {
   "codemirror_mode": {
    "name": "ipython",
    "version": 3
   },
   "file_extension": ".py",
   "mimetype": "text/x-python",
   "name": "python",
   "nbconvert_exporter": "python",
   "pygments_lexer": "ipython3",
   "version": "3.10.0"
  }
 },
 "nbformat": 4,
 "nbformat_minor": 2
}
