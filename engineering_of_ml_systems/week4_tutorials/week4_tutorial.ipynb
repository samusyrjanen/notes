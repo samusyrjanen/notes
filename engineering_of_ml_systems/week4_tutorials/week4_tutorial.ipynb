{
 "cells": [
  {
   "cell_type": "markdown",
   "metadata": {},
   "source": [
    "# Model deployment\n",
    "You've trained a model, evaluated it using the testing dataset to make sure that it satisfies some performance criteria. The next step is to put your model into production where it can receive input from real world and make inferences. Model deployment is the process of integrating your model into production so that its inferences are available to users. \n",
    "\n",
    "This week's tutorials are split into several sections. We'll start from the different patterns of deploying a model, where you'll see how to embed a model into an application directly as well as deploy a model as a separate inference service using KServe. Next, you'll get some experience with some more features provided by KServe, including canary deployment, horizontal scaling, and inference graph. If we take a look at the overview architecture of our MLOps platform, the focus of this week is KServe. \n",
    "\n",
    "<img src=\"./images/overview-kserve-focus.jpg\" width=600 />\n",
    "\n",
    "This week's tutorials consist of several notebooks:\n",
    "\n",
    "1. [Model deployment patterns](./tutorials/1_deployment_patterns.ipynb)\n",
    "2. [Canary deployment](./tutorials/2_canary_deployment.ipynb)\n",
    "3. [Horizontal scaling](./tutorials/3_horizontal_scaling.ipynb)\n",
    "4. [Inference graph](./tutorials/4_inference_graph.ipynb)\n",
    "\n",
    "**Note**: For this week's tutorials, it is assumed that you have previously trained an sklearn ElasticNet model for wine quality prediction and have already uploaded the model artifact to your MLflow service. If you haven't completed this step, please run the \"1_try_mlflow.ipynb\" notebook provided in the first week's tutorials before proceeding to the tutorials for this week."
   ]
  }
 ],
 "metadata": {
  "kernelspec": {
   "display_name": "Python 3",
   "language": "python",
   "name": "python3"
  },
  "language_info": {
   "codemirror_mode": {
    "name": "ipython",
    "version": 3
   },
   "file_extension": ".py",
   "mimetype": "text/x-python",
   "name": "python",
   "nbconvert_exporter": "python",
   "pygments_lexer": "ipython3",
   "version": "3.10.0"
  },
  "orig_nbformat": 4
 },
 "nbformat": 4,
 "nbformat_minor": 2
}
