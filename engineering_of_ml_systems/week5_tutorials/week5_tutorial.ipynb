{
 "cells": [
  {
   "cell_type": "markdown",
   "metadata": {},
   "source": [
    "# Towards pipeline automation\n",
    "So far you've learned how to pre-process data, train a model, track the training using MLflow, and deploy the trained model using KServe. Let's then chain these different phases involved in ML engineering into an automated process. \n",
    "\n",
    "In this week, you'll learn how to use Kubeflow Pipelines to create an ML pipeline. \n",
    "\n",
    "## Kubeflow Pipelines \n",
    "Kubeflow Pipelines allows users to define an ML pipeline, which is a way to codify and automate a set of predefined tasks, such as data preprocessing, model training, and model deployment. Kubeflow Pipelines allows for managing the dependencies and execution orders of tasks. Considering the overview architecture of our MLOps platform, we'll focus on Kubeflow Pipelines in this week. \n",
    "\n",
    "<img src=\"./images/overview-kfp-focus.jpg\" width=600 />\n",
    "\n",
    "You can find an example of Kubeflow Pipelines in [this notebook](./tutorials/1_try_kfp/demo-pipeline.ipynb). \n"
   ]
  }
 ],
 "metadata": {
  "language_info": {
   "name": "python"
  }
 },
 "nbformat": 4,
 "nbformat_minor": 2
}
