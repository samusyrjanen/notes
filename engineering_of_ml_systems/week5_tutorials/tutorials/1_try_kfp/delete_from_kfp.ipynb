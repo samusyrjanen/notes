{
 "cells": [
  {
   "cell_type": "markdown",
   "metadata": {},
   "source": [
    "# Delete KFP Runs and Experiments\n",
    "\n",
    "KFP Runs and Experiments can be deleted using the SDK provided by Kubeflow Pipelines."
   ]
  },
  {
   "cell_type": "code",
   "execution_count": 1,
   "metadata": {},
   "outputs": [],
   "source": [
    "import kfp\n",
    "client = kfp.Client(host=None)"
   ]
  },
  {
   "cell_type": "markdown",
   "metadata": {},
   "source": [
    "### Delete a KFP Run\n",
    "You can get the KFP Run ID from the UI:\n",
    "\n",
    "<img src=\"./images/kfp-run-id.png\" width=\"700\" />"
   ]
  },
  {
   "cell_type": "code",
   "execution_count": 3,
   "metadata": {},
   "outputs": [
    {
     "data": {
      "text/plain": [
       "{}"
      ]
     },
     "execution_count": 3,
     "metadata": {},
     "output_type": "execute_result"
    }
   ],
   "source": [
    "# Delete a KFP run\n",
    "\n",
    "# assign your run id to the run_id variable\n",
    "run_id = \"5cd93fd6-17d9-4039-bf93-9aa5215ccd6e\"\n",
    "client.runs.delete_run(id=run_id)"
   ]
  },
  {
   "cell_type": "markdown",
   "metadata": {},
   "source": [
    "### Delete a KFP Experiment\n",
    "Before deleting a KFP Experiment, we need to delete all KFP Runs under the Experiment. Otherwise, the Runs will still be shown on the UI even the Experiment is deleted."
   ]
  },
  {
   "cell_type": "code",
   "execution_count": 5,
   "metadata": {},
   "outputs": [
    {
     "data": {
      "text/plain": [
       "{}"
      ]
     },
     "execution_count": 5,
     "metadata": {},
     "output_type": "execute_result"
    }
   ],
   "source": [
    "# Get the experiment id\n",
    "# Replace this with your own experiment name\n",
    "experiment_name = \"demo-experiment\"\n",
    "experiment_id = client.get_experiment(experiment_name=experiment_name).id\n",
    "\n",
    "# Get all runs under the experiment\n",
    "response = client.list_runs(experiment_id=experiment_id)\n",
    "\n",
    "# Delete all the runs\n",
    "if response.runs:\n",
    "    for run in response.runs:\n",
    "        client.runs.delete_run(id=run.id)\n",
    "\n",
    "# Delete the experiment\n",
    "client.delete_experiment(experiment_id=experiment_id)"
   ]
  }
 ],
 "metadata": {
  "kernelspec": {
   "display_name": "Python 3",
   "language": "python",
   "name": "python3"
  },
  "language_info": {
   "codemirror_mode": {
    "name": "ipython",
    "version": 3
   },
   "file_extension": ".py",
   "mimetype": "text/x-python",
   "name": "python",
   "nbconvert_exporter": "python",
   "pygments_lexer": "ipython3",
   "version": "3.10.0"
  }
 },
 "nbformat": 4,
 "nbformat_minor": 2
}
