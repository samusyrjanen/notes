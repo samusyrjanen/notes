{
 "cells": [
  {
   "cell_type": "markdown",
   "metadata": {
    "nbgrader": {
     "grade": false,
     "grade_id": "cell-9ab5fb97a4fbf759",
     "locked": true,
     "schema_version": 3,
     "solution": false,
     "task": false
    }
   },
   "source": [
    "# MLflow tutorial\n",
    "In the first week, we'll focus on MLflow that helps you track your ML experiments. \n",
    "\n",
    "<img src=\"../images/overview-mlflow-focus.jpg\" width=600>\n",
    "\n",
    "As shown in the figure above, the MLOps platform provides an MLflow service that stores ML model training information to a PostgreSQL database and model artifacts to a MinIO storage service. \n",
    "\n",
    "MLflow provides a [Python client](https://mlflow.org/docs/latest/python_api/index.html) for communicating with an MLflow service. For example, we can use the MLflow Python client to start an *MLflow run*, which is an execution of an ML training script:\n",
    "```python\n",
    "with mlflow.start_run():\n",
    "    model = ElasticNet(alpha=..., l1_ratio=...)\n",
    "    model.fit(train_x, train_y)\n",
    "```\n",
    "*MLflow runs* are organized into *MLflow experiments*. An MLflow experiment can be seen as a logical unit of one or more MLflow runs. For example, there can be an MLflow experiment for training an ElasticNet model, and there can be multiple MLflow runs under this experiment for exploring different hyperparameters and/or training datasets.\n",
    "\n",
    "When starting  an MLflow run, we can record the relevant information, such as the configured hyperparameters and custom evaluation metrics. After the run is completed, we can also upload the produced model artifact to MLflow:\n",
    "```python\n",
    "with mlflow.start_run():\n",
    "    model = ElasticNet(alpha=..., l1_ratio=...)\n",
    "    model.fit(train_x, train_y)\n",
    "    mlflow.log_param(\"alpha\", ...)\n",
    "    mlflow.log_param(\"l1_ratio\", ...)\n",
    "    mlflow.log_metric(\"rmse\", ...)\n",
    "    mlflow.sklearn.log_model(model, ...)\n",
    "```\n",
    "There will be a complete example later. \n",
    "\n",
    "More reading material: [MLflow docs](https://mlflow.org/docs/latest/index.html)"
   ]
  },
  {
   "cell_type": "markdown",
   "metadata": {
    "nbgrader": {
     "grade": false,
     "grade_id": "cell-217ceb52228f7ab6",
     "locked": true,
     "schema_version": 3,
     "solution": false,
     "task": false
    }
   },
   "source": [
    "# MLflow example\n",
    "In this example, we'll use sklearn to train a simple ElasticNet model that predicts red wine quality given some chemical attributes. The information of dataset used in this example can be found [here](https://archive.ics.uci.edu/dataset/186/wine+quality). "
   ]
  },
  {
   "cell_type": "markdown",
   "metadata": {
    "nbgrader": {
     "grade": false,
     "grade_id": "cell-ea679e1cf9e2134c",
     "locked": true,
     "schema_version": 3,
     "solution": false,
     "task": false
    }
   },
   "source": [
    "### Create an MLflow run\n",
    "The following code snippet exemplifies how to use the MLflow Python client to record training parameters and evaluation metrics as well as upload the trained model artifact to the MLflow service."
   ]
  },
  {
   "cell_type": "code",
   "execution_count": 1,
   "metadata": {
    "nbgrader": {
     "grade": false,
     "grade_id": "cell-c8b7ed7c1631bf1b",
     "locked": true,
     "schema_version": 3,
     "solution": false,
     "task": false
    }
   },
   "outputs": [],
   "source": [
    "import os\n",
    "import logging\n",
    "\n",
    "import mlflow\n",
    "import mlflow.sklearn\n",
    "import numpy as np\n",
    "import pandas as pd\n",
    "from sklearn.metrics import mean_squared_error\n",
    "from sklearn.model_selection import train_test_split\n",
    "from sklearn.linear_model import ElasticNet\n",
    "\n",
    "# Set an environmental variable named \"MLFLOW_S3_ENDPOINT_URL\" so that MLflow client knows where to save artifacts.\n",
    "# The MinIO storage service can be accessed via http://mlflow-minio.local\n",
    "os.environ[\"MLFLOW_S3_ENDPOINT_URL\"] = \"http://mlflow-minio.local\"\n",
    "\n",
    "# Configure the credentials needed for accessing the MinIO storage service.\n",
    "# \"AWS_ACCESS_KEY_ID\" has been configured in a ComfigMap and \"AWS_SECRET_ACCESS_KEY\" in a Secret in your K8s cluster when you set up the MLOps platform\n",
    "os.environ[\"AWS_ACCESS_KEY_ID\"] = \"minioadmin\"\n",
    "os.environ[\"AWS_SECRET_ACCESS_KEY\"] = \"minioadmin\"\n",
    "\n",
    "logging.basicConfig(level=logging.INFO)\n",
    "logger = logging.getLogger(__name__)\n",
    "\n",
    "MLFLOW_TRACKING_URI = \"http://mlflow-server.local\" # This is the URL of the MLflow service\n",
    "MLFLOW_EXPERIMENT_NAME = \"mlflow-minio-test\"\n",
    "\n",
    "\n",
    "def eval_metrics(actual, pred):\n",
    "    rmse = np.sqrt(mean_squared_error(actual, pred))\n",
    "    return rmse\n",
    "\n",
    "\n",
    "def main():\n",
    "    np.random.seed(40)\n",
    "\n",
    "    # Read the wine-quality csv file from the URL\n",
    "    csv_url = (\n",
    "        \"http://archive.ics.uci.edu/ml/machine-learning-databases/wine-quality/winequality-red.csv\"\n",
    "    )\n",
    "\n",
    "    data = pd.read_csv(csv_url, sep=\";\")\n",
    "\n",
    "    # Split the data into training and test sets. (0.75, 0.25) split.\n",
    "    train, test = train_test_split(data)\n",
    "\n",
    "    # The predicted column is \"quality\" which is a scalar from [3, 9]\n",
    "    train_x = train.drop([\"quality\"], axis=1)\n",
    "    test_x = test.drop([\"quality\"], axis=1)\n",
    "    train_y = train[[\"quality\"]]\n",
    "    test_y = test[[\"quality\"]]\n",
    "    \n",
    "    # Just use hard-coded hyperparameters\n",
    "    alpha = 0.5\n",
    "    l1_ratio = 0.5\n",
    "\n",
    "    logger.info(f\"Using MLflow tracking URI: {MLFLOW_TRACKING_URI}\")\n",
    "\n",
    "    # Configure the MLflow client to connect to the MLflow service\n",
    "    mlflow.set_tracking_uri(MLFLOW_TRACKING_URI)\n",
    "\n",
    "    logger.info(f\"Using MLflow experiment: {MLFLOW_EXPERIMENT_NAME}\")\n",
    "    mlflow.set_experiment(MLFLOW_EXPERIMENT_NAME)\n",
    "\n",
    "    with mlflow.start_run():\n",
    "        lr = ElasticNet(alpha=alpha, l1_ratio=l1_ratio, random_state=42)\n",
    "\n",
    "        logger.info(\"Fitting model...\")\n",
    "\n",
    "        lr.fit(train_x, train_y)\n",
    "\n",
    "        logger.info(\"Finished fitting\")\n",
    "\n",
    "        predicted_qualities = lr.predict(test_x)\n",
    "\n",
    "        rmse = eval_metrics(test_y, predicted_qualities)\n",
    "\n",
    "        logger.info(\"Elasticnet model (alpha=%f, l1_ratio=%f):\" %\n",
    "                    (alpha, l1_ratio))\n",
    "        logger.info(\"  RMSE: %s\" % rmse)\n",
    "\n",
    "\n",
    "        logger.info(\"Logging parameters to MLflow\")\n",
    "        mlflow.log_param(\"alpha\", alpha)\n",
    "        mlflow.log_param(\"l1_ratio\", l1_ratio)\n",
    "        mlflow.log_metric(\"rmse\", rmse)\n",
    "\n",
    "        logger.info(\"Logging trained model\")\n",
    "        artifact_name = \"model\"\n",
    "        mlflow.sklearn.log_model(\n",
    "            lr, artifact_name, registered_model_name=\"ElasticnetWineModel\")\n",
    "        print(\"The S3 URI of the logged model:\", mlflow.get_artifact_uri(artifact_path=artifact_name))"
   ]
  },
  {
   "cell_type": "code",
   "execution_count": 2,
   "metadata": {
    "nbgrader": {
     "grade": false,
     "grade_id": "cell-50aa2a46612db31a",
     "locked": true,
     "schema_version": 3,
     "solution": false,
     "task": false
    }
   },
   "outputs": [
    {
     "name": "stderr",
     "output_type": "stream",
     "text": [
      "INFO:__main__:Using MLflow tracking URI: http://mlflow-server.local\n",
      "INFO:__main__:Using MLflow experiment: mlflow-minio-test\n",
      "2023/11/02 11:54:21 INFO mlflow.tracking.fluent: Experiment with name 'mlflow-minio-test' does not exist. Creating a new experiment.\n",
      "INFO:__main__:Fitting model...\n",
      "INFO:__main__:Finished fitting\n",
      "INFO:__main__:Elasticnet model (alpha=0.500000, l1_ratio=0.500000):\n",
      "INFO:__main__:  RMSE: 0.7931640229276851\n",
      "INFO:__main__:Logging parameters to MLflow\n",
      "INFO:__main__:Logging trained model\n",
      "/home/user/anaconda3/envs/mlops_eng/lib/python3.10/site-packages/_distutils_hack/__init__.py:33: UserWarning: Setuptools is replacing distutils.\n",
      "  warnings.warn(\"Setuptools is replacing distutils.\")\n",
      "INFO:botocore.credentials:Found credentials in environment variables.\n",
      "Successfully registered model 'ElasticnetWineModel'.\n",
      "2023/11/02 11:54:27 INFO mlflow.tracking._model_registry.client: Waiting up to 300 seconds for model version to finish creation. Model name: ElasticnetWineModel, version 1\n"
     ]
    },
    {
     "name": "stdout",
     "output_type": "stream",
     "text": [
      "The S3 URI of the logged model: s3://mlflow/4/4a3207f0fce24c449fa7d9f4327ae6d4/artifacts/model\n"
     ]
    },
    {
     "name": "stderr",
     "output_type": "stream",
     "text": [
      "Created version '1' of model 'ElasticnetWineModel'.\n"
     ]
    }
   ],
   "source": [
    "main()"
   ]
  },
  {
   "cell_type": "markdown",
   "metadata": {},
   "source": [
    "Expected output:\n",
    "\n",
    "```text\n",
    "INFO:__main__:Using MLflow tracking URI: http://mlflow-server.local\n",
    "INFO:__main__:Using MLflow experiment: mlflow-minio-test\n",
    "2023/08/16 13:45:22 INFO mlflow.tracking.fluent: Experiment with name 'mlflow-minio-test' does not exist. Creating a new experiment.\n",
    "(More logs...)\n",
    "\n",
    "Successfully registered model 'ElasticnetWineModel'.\n",
    "The S3 URI of the logged model: s3://mlflow/7/fca4fffeab3d44e98ad2584f9f32a45a/artifacts/model\n",
    "```\n",
    "Note that the S3 URI of the logged model vary. "
   ]
  },
  {
   "cell_type": "markdown",
   "metadata": {
    "nbgrader": {
     "grade": false,
     "grade_id": "cell-53f5b54cd1d32f05",
     "locked": true,
     "schema_version": 3,
     "solution": false,
     "task": false
    }
   },
   "source": [
    "Navigate to the MLflow service UI at [http://mlflow-server.local](http://mlflow-server.local),\n",
    "and you should see your run under the experiment \"mlflow-minio-test\". You can browse the run parameters, metrics and artifacts. For example: \n",
    "\n",
    "* Training hyperparameters and evaluation metrics:\n",
    "\n",
    "<img src=\"../images/mlflow-logging.png\" width=\"1000\"/>\n",
    "\n",
    "You may notice that the \"Metrics\" and \"Parameters\" field are hidden by default, you can make visible by clicking the \"Columns\" tab:\n",
    "\n",
    "<img src=\"../images/mlflow-show-columns.png\" width=1000 />\n",
    "\n",
    "When clicking the Run Name, we can also check where the model and other related files have been uploaded:\n",
    "\n",
    "<img src=\"../images/mlflow-uploaded-artifacts.svg\" width=1000 />\n",
    "\n",
    "In this case, the model (which is a Pickle file) and its related files (such as the model dependency requirements) have been uploaded to the MinIO service. Navigate to [http://mlflow-minio-ui.local](http://mlflow-minio-ui.local) and login using \"minioadmin\" as both the username and password, we can see there is a bucket named \"mlflow\":\n",
    "\n",
    "<img src=\"../images/minio-bucket-ui.png\" width=1000 />\n",
    "\n",
    "clicking the bucket (and its underlying folders) we can see the model and its related artifacts reside in the \"mlflow\" bucket:\n",
    "\n",
    "<img src=\"../images/minio-model-artifacts.png\" width=1000 />\n",
    "\n",
    "* Finally, we can also see the model has been registered to MLflow:\n",
    "\n",
    "<img src=\"../images/mlflow-model.png\" width=\"1000\"/>\n"
   ]
  }
 ],
 "metadata": {
  "celltoolbar": "Create Assignment",
  "kernelspec": {
   "display_name": "Python 3 (ipykernel)",
   "language": "python",
   "name": "python3"
  },
  "language_info": {
   "codemirror_mode": {
    "name": "ipython",
    "version": 3
   },
   "file_extension": ".py",
   "mimetype": "text/x-python",
   "name": "python",
   "nbconvert_exporter": "python",
   "pygments_lexer": "ipython3",
   "version": "3.10.0"
  }
 },
 "nbformat": 4,
 "nbformat_minor": 4
}
